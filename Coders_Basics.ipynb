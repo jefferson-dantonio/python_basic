{
  "nbformat": 4,
  "nbformat_minor": 0,
  "metadata": {
    "colab": {
      "name": "Coders_Basics.ipynb",
      "provenance": [],
      "authorship_tag": "ABX9TyNvHcFYiCoN6qJJfh6rVrt1",
      "include_colab_link": true
    },
    "kernelspec": {
      "name": "python3",
      "display_name": "Python 3"
    },
    "language_info": {
      "name": "python"
    }
  },
  "cells": [
    {
      "cell_type": "markdown",
      "metadata": {
        "id": "view-in-github",
        "colab_type": "text"
      },
      "source": [
        "<a href=\"https://colab.research.google.com/github/jefferson-dantonio/python_basic/blob/main/Coders_Basics.ipynb\" target=\"_parent\"><img src=\"https://colab.research.google.com/assets/colab-badge.svg\" alt=\"Open In Colab\"/></a>"
      ]
    },
    {
      "cell_type": "markdown",
      "metadata": {
        "id": "KUEA46G0T8EL"
      },
      "source": [
        "Hello, World"
      ]
    },
    {
      "cell_type": "code",
      "metadata": {
        "colab": {
          "base_uri": "https://localhost:8080/"
        },
        "id": "I9sYFUznT7UT",
        "outputId": "ef4e6399-88c8-412f-a71b-011e8f4626a1"
      },
      "source": [
        "print(\"Hello, World!\")"
      ],
      "execution_count": null,
      "outputs": [
        {
          "output_type": "stream",
          "text": [
            "Hello, World!\n"
          ],
          "name": "stdout"
        }
      ]
    },
    {
      "cell_type": "markdown",
      "metadata": {
        "id": "Ga5sMP5sY7zu"
      },
      "source": [
        "# Variaveis"
      ]
    },
    {
      "cell_type": "markdown",
      "metadata": {
        "id": "23apKE-4TOtf"
      },
      "source": [
        "Tipos de Variavel\n",
        "\n",
        "* Integer - int\n",
        "* Float - float\n",
        "* String - str\n",
        "* Boolean -bool\n",
        "\n",
        "\n",
        "\n",
        "\n",
        "\n"
      ]
    },
    {
      "cell_type": "code",
      "metadata": {
        "colab": {
          "base_uri": "https://localhost:8080/"
        },
        "id": "fbT47j8sVC5H",
        "outputId": "a80872f0-088e-415a-ea4e-63885410f60f"
      },
      "source": [
        "integer_type = 5\n",
        "print(\"the variable value is \" + str(integer_type) + \" and variable type is \" + str(type(integer_type)))"
      ],
      "execution_count": null,
      "outputs": [
        {
          "output_type": "stream",
          "text": [
            "the variable value is 5 and variable type is <class 'int'>\n"
          ],
          "name": "stdout"
        }
      ]
    },
    {
      "cell_type": "code",
      "metadata": {
        "colab": {
          "base_uri": "https://localhost:8080/"
        },
        "id": "U0bbwk8hXxvw",
        "outputId": "5202a01a-9c16-4383-f3d4-c4feb270f9ed"
      },
      "source": [
        "float_type = 5.99\n",
        "print(\"the variable value is \" + str(float_type) + \" and variable type is \" + str(type(float_type)))"
      ],
      "execution_count": null,
      "outputs": [
        {
          "output_type": "stream",
          "text": [
            "the variable value is 5.99 and variable type is <class 'float'>\n"
          ],
          "name": "stdout"
        }
      ]
    },
    {
      "cell_type": "code",
      "metadata": {
        "colab": {
          "base_uri": "https://localhost:8080/"
        },
        "id": "SwZyXdpCXyx0",
        "outputId": "90deb5fc-2460-4bd2-ef9b-5343adc97784"
      },
      "source": [
        "string_type = 'String'\n",
        "print(\"the variable value is \" + string_type + \" and variable type is \" + str(type(string_type)))"
      ],
      "execution_count": null,
      "outputs": [
        {
          "output_type": "stream",
          "text": [
            "the variable value is String and variable type is <class 'str'>\n"
          ],
          "name": "stdout"
        }
      ]
    },
    {
      "cell_type": "code",
      "metadata": {
        "colab": {
          "base_uri": "https://localhost:8080/"
        },
        "id": "-VruixWXXySw",
        "outputId": "32d07533-639b-4989-98c0-5ccf3fe8f1e5"
      },
      "source": [
        "boolean_type = True\n",
        "print(\"the variable value is \" + str(boolean_type) + \" and variable type is \" + str(type(boolean_type)))\n"
      ],
      "execution_count": null,
      "outputs": [
        {
          "output_type": "stream",
          "text": [
            "the variable value is True and variable type is <class 'bool'>\n"
          ],
          "name": "stdout"
        }
      ]
    },
    {
      "cell_type": "markdown",
      "metadata": {
        "id": "SjQ44IPaZLRf"
      },
      "source": [
        "# Operadores\n"
      ]
    },
    {
      "cell_type": "markdown",
      "metadata": {
        "id": "OXdE-tG3ZQpK"
      },
      "source": [
        "## Operadores Aritimeticos \n",
        "* '*' -> multiplicação\n",
        "* '/' -> divisão\n",
        "* '+' -> adição\n",
        "* '-' -> subtração\n",
        "* '**' -> exponenciação\n",
        "* '//' -> divisão\n",
        "* '%' -> resto\n",
        "\n",
        "\n"
      ]
    },
    {
      "cell_type": "code",
      "metadata": {
        "colab": {
          "base_uri": "https://localhost:8080/"
        },
        "id": "4ktq3yK0aT_7",
        "outputId": "675fe500-2814-4799-b4be-b2d2dcbaad7a"
      },
      "source": [
        "first_value = 5\n",
        "second_value = 2\n",
        "print(first_value * second_value)\n",
        "print(first_value / second_value) # o resultado de toda divisão será um variavel float\n",
        "print(first_value + second_value)\n",
        "print(first_value - second_value)\n",
        "print(first_value ** second_value)\n",
        "print(first_value // second_value)\n",
        "print(first_value % second_value)"
      ],
      "execution_count": null,
      "outputs": [
        {
          "output_type": "stream",
          "text": [
            "10\n",
            "2.5\n",
            "7\n",
            "3\n",
            "25\n",
            "2\n",
            "1\n"
          ],
          "name": "stdout"
        }
      ]
    },
    {
      "cell_type": "markdown",
      "metadata": {
        "id": "0iL5bqRwbGLQ"
      },
      "source": [
        "## Operadores Lógicos \n",
        "* 'not' -> inverte o valor logico da váriavel \n",
        "* 'and' -> a saida ter o valor verdadeiro se todas a entradas forem verdadeiras \n",
        "* 'or' -> a saida ter o valor verdadeiro se pelo menos uma entrada for verdadeira\n"
      ]
    },
    {
      "cell_type": "code",
      "metadata": {
        "colab": {
          "base_uri": "https://localhost:8080/"
        },
        "id": "14P9nm-YbdJp",
        "outputId": "d63dbc7a-b3be-444a-c0d4-8b375b39c502"
      },
      "source": [
        "first_variable = True\n",
        "second_variable = False\n",
        "boolean_type = True\n",
        "print(not first_variable)\n",
        "print(not second_variable)\n",
        "print(first_variable  and second_variable)\n",
        "print(first_variable  or second_variable)"
      ],
      "execution_count": null,
      "outputs": [
        {
          "output_type": "stream",
          "text": [
            "False\n",
            "True\n",
            "False\n",
            "True\n"
          ],
          "name": "stdout"
        }
      ]
    },
    {
      "cell_type": "markdown",
      "metadata": {
        "id": "2g0i_odBbd-u"
      },
      "source": [
        "## Operadores Relacionais \n",
        "* '<' -> menor que\n",
        "* '>' -> maior que\n",
        "* '=' ->  atribuição\n",
        "* '==' -> igualdade\n",
        "* '<=' -> menor ou igual que\n",
        "* '>=' -> maior ou igual que\n",
        "* '!=' -> diferente\n"
      ]
    },
    {
      "cell_type": "code",
      "metadata": {
        "colab": {
          "base_uri": "https://localhost:8080/"
        },
        "id": "TuMTpKdldugi",
        "outputId": "4bc5ba69-f36d-448d-905f-465de6efbc83"
      },
      "source": [
        "print(first_value < second_value)\n",
        "print(first_value > second_value)\n",
        "print(first_value == second_value)\n",
        "print(first_value <= second_value)\n",
        "print(first_value >= second_value)\n",
        "print(first_value != second_value)"
      ],
      "execution_count": null,
      "outputs": [
        {
          "output_type": "stream",
          "text": [
            "False\n",
            "True\n",
            "False\n",
            "False\n",
            "True\n",
            "True\n"
          ],
          "name": "stdout"
        }
      ]
    },
    {
      "cell_type": "markdown",
      "metadata": {
        "id": "xv4hCl3zeTWZ"
      },
      "source": [
        "# Estruturas Sequenciais"
      ]
    },
    {
      "cell_type": "markdown",
      "metadata": {
        "id": "qJazqt8jedLz"
      },
      "source": [
        "* input -> retorno valor que o usuario insere\n",
        "* print() -> mostra o valor de uma variavel na tela\n",
        "* type() -> mostra o tipo da informação"
      ]
    },
    {
      "cell_type": "code",
      "metadata": {
        "colab": {
          "base_uri": "https://localhost:8080/"
        },
        "id": "uKXYnAX3etBb",
        "outputId": "1d8c23cb-45c2-43d3-dbff-e817852c989d"
      },
      "source": [
        "idade = input('digite sua idade')\n",
        "print(idade, type(idade))"
      ],
      "execution_count": null,
      "outputs": [
        {
          "output_type": "stream",
          "text": [
            "digite sua idade34\n",
            "34 <class 'str'>\n"
          ],
          "name": "stdout"
        }
      ]
    },
    {
      "cell_type": "markdown",
      "metadata": {
        "id": "5hepKtO1fLuF"
      },
      "source": [
        "## Cast\n",
        "Converte um valor de um tipo para outro desde que a conversão seja possivel "
      ]
    },
    {
      "cell_type": "code",
      "metadata": {
        "colab": {
          "base_uri": "https://localhost:8080/"
        },
        "id": "sG7jOsWgfQtA",
        "outputId": "1cd761f7-8ce7-4195-a468-dc4b434f213a"
      },
      "source": [
        "idade = int(idade)\n",
        "print(idade, type(idade))"
      ],
      "execution_count": null,
      "outputs": [
        {
          "output_type": "stream",
          "text": [
            "34 <class 'int'>\n"
          ],
          "name": "stdout"
        }
      ]
    },
    {
      "cell_type": "code",
      "metadata": {
        "colab": {
          "base_uri": "https://localhost:8080/"
        },
        "id": "H8qa_twUf8iC",
        "outputId": "43d60468-2f24-4d38-9a55-33ef55a0179b"
      },
      "source": [
        "print(bool(1))\n",
        "print(bool(0))\n",
        "print(bool(-1))\n",
        "print(float('12.22'))"
      ],
      "execution_count": null,
      "outputs": [
        {
          "output_type": "stream",
          "text": [
            "True\n",
            "False\n",
            "True\n",
            "12.22\n"
          ],
          "name": "stdout"
        }
      ]
    },
    {
      "cell_type": "markdown",
      "metadata": {
        "id": "bn-avbJUgZBm"
      },
      "source": [
        "## Gasto Mensal"
      ]
    },
    {
      "cell_type": "code",
      "metadata": {
        "colab": {
          "base_uri": "https://localhost:8080/"
        },
        "id": "gCix9qORgXOS",
        "outputId": "c04e905e-6d07-4882-c41e-6160407d3104"
      },
      "source": [
        "salario_mensal = input('Digite o valor do seu salário: ')\n",
        "salario_mensal = float(salario_mensal)\n",
        "\n",
        "gasto_mensal = input('digite o valor do seu gasto mensal: ')\n",
        "gasto_mensal = float(gasto_mensal)\n",
        "\n",
        "salario_total = salario_mensal * 12\n",
        "gasto_total = gasto_mensal * 12\n",
        "\n",
        "montante_economizado = salario_total - gasto_total\n",
        "\n",
        "print(f'O montante que você pode econimizar ao fim do ano é R${montante_economizado: .2f}')"
      ],
      "execution_count": null,
      "outputs": [
        {
          "output_type": "stream",
          "text": [
            "Digite o valor do seu salário: 1000.00\n",
            "digite o valor do seu gasto mensal: 900.00\n",
            "O montante que você pode econimizar ao fim do ano é R$ 1200.00\n"
          ],
          "name": "stdout"
        }
      ]
    },
    {
      "cell_type": "markdown",
      "metadata": {
        "id": "s5hTR_7NjP5P"
      },
      "source": [
        "# Estruturas Condicionais\n",
        "* if/else:  \n",
        "    * if -> teste uma condição se ela for verdadeira, seu conteúdo é executado;\n",
        "caso contrário, seu conteúdo é ignorado.\n",
        "    * else -> Em alguns casos, queremos que o programa escolha entre 2 casos  alguns mutuamente exclusivos. Para isso utilizamos o else. O else não possui condição para verificar. O else sempre vem imediatamente após um if e é executado se o if for ignorado.\n",
        "* elif: Podemos testar diversos casos mutuamente exclusivos utilizando o 'elif'.\n",
        "O comando elif é a contração de \"else if\" - ou seja, caso um if não seja executado, você pode propor uma nova condição para ser testad"
      ]
    },
    {
      "cell_type": "code",
      "metadata": {
        "colab": {
          "base_uri": "https://localhost:8080/"
        },
        "id": "p5uRsDPtkuTo",
        "outputId": "0fd06489-799e-4cb2-ddf6-85ff141651aa"
      },
      "source": [
        "valor_passagem = 4.30\n",
        "valor_corrida = input('Qual o valor da corrida? ')\n",
        "\n",
        "if float(valor_corrida) <= valor_passagem * 5:\n",
        "  print('Viagem com aplicativo')\n",
        "else:\n",
        "  print('Viagem com transporte público')"
      ],
      "execution_count": null,
      "outputs": [
        {
          "output_type": "stream",
          "text": [
            "Qual o valor da corrida? 10.00\n",
            "Viagem com aplicativo\n"
          ],
          "name": "stdout"
        }
      ]
    },
    {
      "cell_type": "code",
      "metadata": {
        "colab": {
          "base_uri": "https://localhost:8080/"
        },
        "id": "12cpLj8umzX5",
        "outputId": "6f2c7c9e-5de6-4a8e-8bb4-592ce46cab5a"
      },
      "source": [
        "valor_passagem = 4.30\n",
        "valor_corrida = input('Qual o valor da corrida? ')\n",
        "\n",
        "if float(valor_corrida) <= valor_passagem * 5:\n",
        "  print('Viagem com aplicativo')\n",
        "elif float(valor_corrida) <= valor_passagem * 6:\n",
        "  print('Aguarde um momento, o valor pode abaixar') \n",
        "else:\n",
        "  print('Viagem com transporte público')"
      ],
      "execution_count": null,
      "outputs": [
        {
          "output_type": "stream",
          "text": [
            "Qual o valor da corrida? 22\n",
            "Aguarde um momento, o valor pode abaixar\n"
          ],
          "name": "stdout"
        }
      ]
    },
    {
      "cell_type": "markdown",
      "metadata": {
        "id": "rf5gLGwBoXBz"
      },
      "source": [
        "# Estrutura de Repetição"
      ]
    },
    {
      "cell_type": "markdown",
      "metadata": {
        "id": "QWDoClakodJp"
      },
      "source": [
        "## While"
      ]
    },
    {
      "cell_type": "code",
      "metadata": {
        "colab": {
          "base_uri": "https://localhost:8080/"
        },
        "id": "moJ3_c0ZohaV",
        "outputId": "ad8e47a3-1334-4528-e012-6a0018994bb0"
      },
      "source": [
        "louca = input('Informe a quantidade de louça que deverá ser lavada ')\n",
        "louca = int(louca)\n",
        "print(' ')\n",
        "while louca > 0:\n",
        "  print('Item lavado')\n",
        "  louca -= 1\n",
        "\n",
        "print(' ')\n",
        "print('Toda louça foi lavada')"
      ],
      "execution_count": null,
      "outputs": [
        {
          "output_type": "stream",
          "text": [
            "Informe a quantidade de louça que deverá ser lavada 6\n",
            " \n",
            "Item lavado\n",
            "Item lavado\n",
            "Item lavado\n",
            "Item lavado\n",
            "Item lavado\n",
            "Item lavado\n",
            " \n",
            "Toda louça foi lavada\n"
          ],
          "name": "stdout"
        }
      ]
    },
    {
      "cell_type": "code",
      "metadata": {
        "colab": {
          "base_uri": "https://localhost:8080/"
        },
        "id": "o94NX7CLq0uK",
        "outputId": "7ebbd35d-fa4e-4985-f93f-123172444caf"
      },
      "source": [
        "texto = input('Digite a sua senha ')\n",
        "\n",
        "while texto != '123456':\n",
        "  texto = input('Senha inválida ')\n",
        "\n",
        "print('Acesso permitido')\n"
      ],
      "execution_count": null,
      "outputs": [
        {
          "output_type": "stream",
          "text": [
            "Digite a sua senha 123456\n",
            "Acesso permitido\n"
          ],
          "name": "stdout"
        }
      ]
    },
    {
      "cell_type": "code",
      "metadata": {
        "colab": {
          "base_uri": "https://localhost:8080/"
        },
        "id": "CYleURbirqR_",
        "outputId": "8afc32c0-9404-4aca-ecac-eb11c2b018f2"
      },
      "source": [
        "contador = 0\n",
        "\n",
        "while contador < 5:\n",
        "  contador += 1\n",
        "  if contador == 1:\n",
        "    continue # avança para proxima interação do loop. ignorado o codigo abaixo\n",
        "  print(contador)\n"
      ],
      "execution_count": null,
      "outputs": [
        {
          "output_type": "stream",
          "text": [
            "2\n",
            "3\n",
            "4\n",
            "5\n"
          ],
          "name": "stdout"
        }
      ]
    },
    {
      "cell_type": "markdown",
      "metadata": {
        "id": "6vyAQ_MZPLDg"
      },
      "source": [
        "## For\n",
        "É uma estrutura de repetição especializada para iterar(navegar) por objetos, como por exemplo uma lista"
      ]
    },
    {
      "cell_type": "markdown",
      "metadata": {
        "id": "4XiIJKhaPY-y"
      },
      "source": [
        "### funções FOR\n",
        "\n",
        "* range() ->  define a quantida de interações de um laço for\n",
        "    * range(valor inicial, valor final, incremento)"
      ]
    },
    {
      "cell_type": "code",
      "metadata": {
        "colab": {
          "base_uri": "https://localhost:8080/"
        },
        "id": "wZGEGU0HP3NH",
        "outputId": "512e71ad-6afc-4c13-fe16-6ac8aea1e7e0"
      },
      "source": [
        "nomes_cidades = ['São Paulo', 'Londres', 'Seul', 'Tokio']\n",
        "for cidade in nomes_cidades:\n",
        "  print(cidade)"
      ],
      "execution_count": null,
      "outputs": [
        {
          "output_type": "stream",
          "text": [
            "São Paulo\n",
            "Londres\n",
            "Seul\n",
            "Tokio\n"
          ],
          "name": "stdout"
        }
      ]
    },
    {
      "cell_type": "code",
      "metadata": {
        "colab": {
          "base_uri": "https://localhost:8080/"
        },
        "id": "xFRZ0LlnQwhZ",
        "outputId": "025c68cc-35f4-473d-d8ea-f92ff517d70c"
      },
      "source": [
        "#range\n",
        "for numero in range(5):\n",
        "  print(numero)\n",
        "\n",
        "print(\" \")\n",
        "for numero in range(1, 5):\n",
        "  print(numero)\n",
        "\n",
        "print(\" \")\n",
        "for numero in range(2, 10, 2):\n",
        "  print(numero)\n",
        "\n",
        "print(\" \")\n",
        "for pos in range(len(nomes_cidades)):\n",
        "  print(nomes_cidades[pos])"
      ],
      "execution_count": null,
      "outputs": [
        {
          "output_type": "stream",
          "text": [
            "0\n",
            "1\n",
            "2\n",
            "3\n",
            "4\n",
            " \n",
            "1\n",
            "2\n",
            "3\n",
            "4\n",
            " \n",
            "2\n",
            "4\n",
            "6\n",
            "8\n",
            " \n",
            "São Paulo\n",
            "Londres\n",
            "Seul\n",
            "Tokio\n"
          ],
          "name": "stdout"
        }
      ]
    },
    {
      "cell_type": "code",
      "metadata": {
        "colab": {
          "base_uri": "https://localhost:8080/"
        },
        "id": "rL9CghzQRD9f",
        "outputId": "ed3c6f0b-b262-43d3-8f7c-eaab261aa17e"
      },
      "source": [
        "# for em dicionario\n",
        "cidade = {\n",
        "    'nome': 'São Paulo',\n",
        "    'Estado': 'São Paulo',\n",
        "    'populacao_milhoes': 12.56\n",
        "}\n",
        "\n",
        "for chave in cidade:\n",
        "  print(f'{chave}: {cidade.get(chave)}')"
      ],
      "execution_count": null,
      "outputs": [
        {
          "output_type": "stream",
          "text": [
            "nome: São Paulo\n",
            "Estado: São Paulo\n",
            "populacao_milhoes: 12.56\n"
          ],
          "name": "stdout"
        }
      ]
    },
    {
      "cell_type": "markdown",
      "metadata": {
        "id": "HGoNbot2sp7o"
      },
      "source": [
        "# Listas e Tuplas"
      ]
    },
    {
      "cell_type": "markdown",
      "metadata": {
        "id": "X-ZidG4lsvnR"
      },
      "source": [
        "## Listas\n",
        " Listas são coleções de objetos em Python. Ao invés de declarar 1 variável para cada valor que gostaríamos de armazenar, podemos criar uma lista para armazenar vários valores\n",
        " Listas são mutaveis, ou seja podem ser modificadas"
      ]
    },
    {
      "cell_type": "markdown",
      "metadata": {
        "id": "Ceb_QpdNtEP-"
      },
      "source": [
        "### Funções de listas\n",
        "* len() -> informa o comprimento de uma lista\n",
        "* .append(element) -> insere um elemento ao fim de um lista \n",
        "* .remove(element) -> remove o item de uma lista, se esse item existir\n",
        "* .count(element) ->  retorna quantas vezes um elemento aparece em um lista\n",
        "* in - indica se um elemento está em um lista\n",
        "* .index(element) -> retorna a posição de um elemento em um lista\n",
        "* .sort() -> ordena uma lista\n",
        "* max() -> retorna o maior valor em uma lista\n",
        "* min() -> retorna o menor valor em uma lista\n",
        "* .insert(index, element) - insere um elemento em posição determinada\n",
        "\n"
      ]
    },
    {
      "cell_type": "code",
      "metadata": {
        "colab": {
          "base_uri": "https://localhost:8080/"
        },
        "id": "o3H4IsDEs7_q",
        "outputId": "455664b8-0522-4387-f005-d1993c14e5cd"
      },
      "source": [
        "lista = [2, 3, 4, 5, 6]\n",
        "print(f'lista é uma {type(lista)}')\n",
        "print(' ')\n",
        "print(f'A lista contém {lista} e tem {len(lista)} items')\n",
        "\n",
        "#acessando um item de um lista\n",
        "print(f'O numero na segunda posição é {lista[1]}')\n",
        "\n",
        "\n",
        "#acessado um item no fim de um lista com indice negativo\n",
        "print(f'O numero na ultima posição é {lista[-1]}')\n",
        "print(' ')\n",
        "\n",
        "#acessado um parte da lista \n",
        "print(lista[2:5])\n",
        "print(lista[2:-1])\n",
        "print(lista[2:])\n",
        "print(lista[:5])\n",
        "print(lista[:])\n",
        "\n",
        "#acessado um parte da lista com step\n",
        "print(lista[::2])\n",
        "\n",
        "\n",
        "# invertendo a ordem da lista\n",
        "print(lista[::-1])\n",
        "print('')\n",
        "\n",
        "\n",
        "\n",
        "\n",
        "#funções de um lista\n",
        "lista.append(1)\n",
        "print(f'A lista contém {lista} e tem {len(lista)} items')\n",
        "\n",
        "lista.sort()\n",
        "print(f'lista ordenada {lista}')\n",
        "\n",
        "print(f'O numero 3 está na lista? {3 in lista}')\n",
        "lista.remove(3)\n",
        "print(f'O numero 3 está na lista? {3 in lista}')\n",
        "print(f'A lista contém {lista} e tem {len(lista)} items')\n",
        "print(' ')\n",
        "\n",
        "print(f'O numero 5 está na posição {lista.index(5)}')\n",
        "\n",
        "lista.append(4)\n",
        "print(f'O numero 4 aparece {lista.count(4)} vezes')\n",
        "print(f'O maior valor na lista é {max(lista)} e o menor valor é {min(lista)}')\n",
        "\n",
        "lista.insert(1, 8)\n",
        "print(f'A lista contém {lista} e tem {len(lista)} items')\n",
        "\n",
        "removido = lista.pop(1)\n",
        "print(f'A lista contém {lista} e tem {len(lista)} items, o valor {removido} foi removido')\n",
        "\n"
      ],
      "execution_count": null,
      "outputs": [
        {
          "output_type": "stream",
          "text": [
            "lista é uma <class 'list'>\n",
            " \n",
            "A lista contém [2, 3, 4, 5, 6] e tem 5 items\n",
            "O numero na segunda posição é 3\n",
            "O numero na ultima posição é 6\n",
            " \n",
            "[4, 5, 6]\n",
            "[4, 5]\n",
            "[4, 5, 6]\n",
            "[2, 3, 4, 5, 6]\n",
            "[2, 3, 4, 5, 6]\n",
            "[2, 4, 6]\n",
            "[6, 5, 4, 3, 2]\n",
            "\n",
            "A lista contém [2, 3, 4, 5, 6, 1] e tem 6 items\n",
            "lista ordenada [1, 2, 3, 4, 5, 6]\n",
            "O numero 3 está na lista? True\n",
            "O numero 3 está na lista? False\n",
            "A lista contém [1, 2, 4, 5, 6] e tem 5 items\n",
            " \n",
            "O numero 5 está na posição 3\n",
            "O numero 4 aparece 2 vezes\n",
            "O maior valor na lista é 6 e o menor valor é 1\n",
            "A lista contém [1, 8, 2, 4, 5, 6, 4] e tem 7 items\n",
            "A lista contém [1, 2, 4, 5, 6, 4] e tem 6 items, o valor 8 foi removido\n"
          ],
          "name": "stdout"
        }
      ]
    },
    {
      "cell_type": "markdown",
      "metadata": {
        "id": "71z4LT_BySB9"
      },
      "source": [
        "## Tuplas\n",
        "Tuplas tem sua estrutura muito parecida com as listas, porém são imutaveis e utilizamos parentese (), ou as variaveis separadas por , para declarar uma tupla\n",
        "A tupla tem menor custo de armazenamento"
      ]
    },
    {
      "cell_type": "markdown",
      "metadata": {
        "id": "cqbx51rW6HQC"
      },
      "source": [
        "### Funçoes especias da Tupla\n",
        "* unpack -> permite dividir os elementos de um tupla em um numero N de variaveis"
      ]
    },
    {
      "cell_type": "code",
      "metadata": {
        "colab": {
          "base_uri": "https://localhost:8080/"
        },
        "id": "yp8Kq4Qdz8Nm",
        "outputId": "e29aaaa6-21ec-49bd-9f97-03352aec5016"
      },
      "source": [
        "tupla = (2, 3, 4, 4 , 5, 6)\n",
        "tupla2 = 'a', 'b', 'c', 'd' \n",
        "print(f'tupla é uma {type(tupla)}')\n",
        "print(f'tupla2 é uma {type(tupla2)}')\n",
        "print(' ')\n",
        "\n",
        "print(f'A tupla contém {tupla} e tem {len(lista)} items')\n",
        "\n",
        "#acessando um item de um lista\n",
        "print(f'O numero na segunda posição é {tupla[1]}')\n",
        "\n",
        "#acessado um item no fim de um lista com indice negativo\n",
        "print(f'O numero na ultima posição é {tupla[-1]}')\n",
        "print(' ')\n",
        "\n",
        "#funções\n",
        "print(f'O numero 5 está na posição {tupla.index(5)}')\n",
        "print(f'O numero 4 aparece {lista.count(4)} vezes')\n",
        "print(f'O maior valor na lista é {max(tupla)} e o menor valor é {min(tupla)}')\n",
        "\n",
        "#funções especiais de uma tupla\n",
        "print(' ')\n",
        "#unpack\n",
        "print(*tupla2)\n",
        "a, b, c, d = tupla2\n",
        "print(f'o valor em a é {a}')\n",
        "print(f'o valor em b é {b}')\n",
        "print(f'o valor em c é {c}')\n",
        "print(f'o valor em d é {d}')"
      ],
      "execution_count": null,
      "outputs": [
        {
          "output_type": "stream",
          "text": [
            "tupla é uma <class 'tuple'>\n",
            "tupla2 é uma <class 'tuple'>\n",
            " \n",
            "A tupla contém (2, 3, 4, 4, 5, 6) e tem 6 items\n",
            "O numero na segunda posição é 3\n",
            "O numero na ultima posição é 6\n",
            " \n",
            "O numero 5 está na posição 4\n",
            "O numero 4 aparece 2 vezes\n",
            "O maior valor na lista é 6 e o menor valor é 2\n",
            " \n",
            "a b c d\n",
            "o valor em a é a\n",
            "o valor em b é b\n",
            "o valor em c é c\n",
            "o valor em d é d\n"
          ],
          "name": "stdout"
        }
      ]
    },
    {
      "cell_type": "markdown",
      "metadata": {
        "id": "6ZJ67KhCcMWo"
      },
      "source": [
        "# String"
      ]
    },
    {
      "cell_type": "markdown",
      "metadata": {
        "id": "G5aKvinVuEt7"
      },
      "source": [
        "## Caracteristicas de uma String\n",
        "\n",
        "* Uma String é uma cadeia de caracteres, ela tem funções e comportamentos similares ao de um lista\n",
        "* '',\"\" -> uma String poder ser declara com aspas simples e duplas\n",
        "* \\ -> a barra invertida é usada como caracter de escape, é usada para inserir um escape na string"
      ]
    },
    {
      "cell_type": "code",
      "metadata": {
        "colab": {
          "base_uri": "https://localhost:8080/"
        },
        "id": "aGAeKQ6yxwU7",
        "outputId": "8986eef4-7be4-495a-d85e-0823b1c8a957"
      },
      "source": [
        "# acessando caracteres de uma string atraves do indice\n",
        "string_1 = \"abcde\"\n",
        "print(string_1[0])\n",
        "print(string_1[-1])\n",
        "print(string_1[1:-1])"
      ],
      "execution_count": null,
      "outputs": [
        {
          "output_type": "stream",
          "text": [
            "a\n",
            "e\n",
            "bcd\n"
          ],
          "name": "stdout"
        }
      ]
    },
    {
      "cell_type": "code",
      "metadata": {
        "colab": {
          "base_uri": "https://localhost:8080/"
        },
        "id": "dkKMDc3duu82",
        "outputId": "ca4b2b03-c0ff-4637-afdc-ea4c128a723a"
      },
      "source": [
        "#Declarando Strings\n",
        "string_com_aspas_simples = 'O Professor disse: \"Usamos aspas simples para declarar a string pois usaremos as aspas duplas para a citação\"'\n",
        "string_com_aspas_duplas = \"Usarei aspas duplas, pois o nome da escola contem aspas simples Let's Code\"\n",
        "string_com_barra_invertida = \"A Let's code disse:  \\\"usarei o caracter de escape para usar aspas duplas dentro dessa string \\ne tambem para inserir um quebra de linha\\\" \"\n",
        "\n",
        "\n",
        "print(string_com_aspas_simples)\n",
        "print(\"\")\n",
        "print(string_com_aspas_duplas)\n",
        "print(\" \")\n",
        "print(string_com_barra_invertida)\n"
      ],
      "execution_count": null,
      "outputs": [
        {
          "output_type": "stream",
          "text": [
            "O Professor disse: \"Usamos aspas simples para declarar a string pois usaremos as aspas duplas para a citação\"\n",
            "\n",
            "Usarei aspas duplas, pois o nome da escola contem aspas simples Let's Code\n",
            " \n",
            "A Let's code disse:  \"usarei o caracter de escape para usar aspas duplas dentro dessa string \n",
            "e tambem para inserir um quebra de linha\" \n"
          ],
          "name": "stdout"
        }
      ]
    },
    {
      "cell_type": "markdown",
      "metadata": {
        "id": "4GuICChDtvb1"
      },
      "source": [
        "## Funções de um String\n",
        "\n",
        "* split -> retorna os caracteres de um string separadoscom base em um caracter, tendo com padrao o\n",
        "* strip -> retirar espaços no inicio e fim de uma string\n",
        "* title -> coloca a primeiras letras de cada palavra de um string para maisculo\n",
        "* capitalize -> coloca a primeira letra da primeira palavra de um string para maisculo\n",
        "* lower -> coloca todas a letras de uma string para minusculo\n",
        "* upper -> colocar todas a letras de uma string para maisculo\n",
        "* in -> verifca se uma string contem uma variavel \n",
        "* .format() e f -> formata a string permitido a inclusao de variaveis direto no texto\n",
        "\n",
        "\n"
      ]
    },
    {
      "cell_type": "code",
      "metadata": {
        "colab": {
          "base_uri": "https://localhost:8080/"
        },
        "id": "tFEGTupjzRds",
        "outputId": "dd053b18-fba2-4b38-abbe-32d2508732e2"
      },
      "source": [
        "estados = \"São Paulo, Bahia, Minas, Amazonas\"\n",
        "estados = estados.split(', ') # retornando os estados para um lista usando ',' e espaço entre as palavras\n",
        "print(estados)\n",
        "print(estados[-1])\n",
        "\n",
        "print(\" \")\n",
        "texto_com_espaco = '   texto   '\n",
        "print(texto_com_espaco)\n",
        "print(texto_com_espaco.strip())\n",
        "\n",
        "print(\" \")\n",
        "texto = \"hello world\"\n",
        "print(texto)\n",
        "print(texto.title())\n",
        "print(texto.capitalize())\n",
        "print(texto.lower())\n",
        "print(texto.upper())\n",
        "\n",
        "print(\" \")\n",
        "texto_2 = 'João roubou pão'\n",
        "variavel = 'pão'\n",
        "\n",
        "print(variavel in texto_2)\n",
        "\n"
      ],
      "execution_count": null,
      "outputs": [
        {
          "output_type": "stream",
          "text": [
            "['São Paulo', 'Bahia', 'Minas', 'Amazonas']\n",
            "Amazonas\n",
            " \n",
            "   texto   \n",
            "texto\n",
            " \n",
            "hello world\n",
            "Hello World\n",
            "Hello world\n",
            "hello world\n",
            "HELLO WORLD\n",
            " \n",
            "True\n"
          ],
          "name": "stdout"
        }
      ]
    },
    {
      "cell_type": "code",
      "metadata": {
        "colab": {
          "base_uri": "https://localhost:8080/"
        },
        "id": "EyKT0IoO7F5E",
        "outputId": "f15c77c1-486d-49d2-8fe1-e331a35637b5"
      },
      "source": [
        "nome = 'J'\n",
        "idade = 33\n",
        "print('{} tem {} anos'.format(nome, idade))\n",
        "print(f'{nome} tem {idade} anos')"
      ],
      "execution_count": null,
      "outputs": [
        {
          "output_type": "stream",
          "text": [
            "J tem 33 anos\n",
            "J tem 33 anos\n"
          ],
          "name": "stdout"
        }
      ]
    },
    {
      "cell_type": "code",
      "metadata": {
        "colab": {
          "base_uri": "https://localhost:8080/"
        },
        "id": "mR_Xn1oO9MSh",
        "outputId": "055cbee7-6ad6-4177-f9ba-ddfa7693a73e"
      },
      "source": [
        "preco_da_gasolina = 3.476\n",
        "print('o preço da gasolina é R$ {:.2f}'.format(preco_da_gasolina))\n",
        "print(f'o preço da gasolina é R$ {preco_da_gasolina:.2f}')"
      ],
      "execution_count": null,
      "outputs": [
        {
          "output_type": "stream",
          "text": [
            "o preço da gasolina é R$ 3.48\n",
            "o preço da gasolina é R$ 3.48\n"
          ],
          "name": "stdout"
        }
      ]
    },
    {
      "cell_type": "markdown",
      "metadata": {
        "id": "lstooFWsH09X"
      },
      "source": [
        "# Dicionarios\n",
        "\n",
        "É uma coleção associativa desordenada, definado por chave e valor\n"
      ]
    },
    {
      "cell_type": "markdown",
      "metadata": {
        "id": "bbK5IZfxH4vq"
      },
      "source": [
        "# Funções de um Dicionario\n",
        "\n",
        "* copy() -> copia os valores de um dicionario para um novo dicionario , criando uma novo espaço na memoria  \n",
        "* update() -> permite a combinação, concactenação e update de dicionarios\n",
        "* get() -> é usada para acessar os dados de um dicionario, ao contrario da chave [ ] se não houve o valor ele retorna 'none' ao inves de um erro\n",
        "* keys() -> retorna uma lista das chaves do dicionario\n",
        "* values() -> retorna uma lista dos valores do dicionario\n",
        "* items() -> retorna uma lista de tuplas(chave e valor) do dicionario"
      ]
    },
    {
      "cell_type": "code",
      "metadata": {
        "colab": {
          "base_uri": "https://localhost:8080/"
        },
        "id": "qO4hG0SBH73K",
        "outputId": "546da3fc-ec84-409c-a849-dd40f56cb02f"
      },
      "source": [
        "dados_cidade = {\n",
        "    'nome': 'São Paulo',\n",
        "    'estado': 'São Paulo',\n",
        "    'area': 1521,\n",
        "    'populacao_milhoes': 12.18\n",
        "}\n",
        "print(type(dados_cidade))\n",
        "print(\" \")\n",
        "print(dados_cidade)"
      ],
      "execution_count": null,
      "outputs": [
        {
          "output_type": "stream",
          "text": [
            "<class 'dict'>\n",
            " \n",
            "{'nome': 'São Paulo', 'estado': 'São Paulo', 'area': 1521, 'populacao_milhoes': 12.18}\n"
          ],
          "name": "stdout"
        }
      ]
    },
    {
      "cell_type": "code",
      "metadata": {
        "colab": {
          "base_uri": "https://localhost:8080/"
        },
        "id": "tlYYhA3WKZBd",
        "outputId": "a40ba221-f1c9-49c1-fbb5-ca830431337d"
      },
      "source": [
        "#adicionado para chave e valor\n",
        "dados_cidade['pais'] = 'Brasil'\n",
        "\n",
        "#acessar valores\n",
        "print(dados_cidade['pais'])\n",
        "\n",
        "#alterar valores\n",
        "dados_cidade['populacao_milhoes'] = 13.80\n",
        "\n",
        "print(dados_cidade)\n",
        "\n"
      ],
      "execution_count": null,
      "outputs": [
        {
          "output_type": "stream",
          "text": [
            "Brasil\n",
            "{'nome': 'São Paulo', 'estado': 'São Paulo', 'area': 1521, 'populacao_milhoes': 13.8, 'pais': 'Brasil'}\n"
          ],
          "name": "stdout"
        }
      ]
    },
    {
      "cell_type": "code",
      "metadata": {
        "colab": {
          "base_uri": "https://localhost:8080/"
        },
        "id": "7l89D2FNLxBG",
        "outputId": "7343d839-5eb2-4d27-fc9c-673111a56bfc"
      },
      "source": [
        "#copy\n",
        "dados_cidade_2 = dados_cidade.copy()\n",
        "dados_cidade_2['nome'] = 'Santos'\n",
        "print(dados_cidade_2)\n",
        "print(dados_cidade)"
      ],
      "execution_count": null,
      "outputs": [
        {
          "output_type": "stream",
          "text": [
            "{'nome': 'Santos', 'estado': 'São Paulo', 'area': 1521, 'populacao_milhoes': 13.8, 'pais': 'Brasil'}\n",
            "{'nome': 'São Paulo', 'estado': 'São Paulo', 'area': 1521, 'populacao_milhoes': 13.8, 'pais': 'Brasil'}\n"
          ],
          "name": "stdout"
        }
      ]
    },
    {
      "cell_type": "code",
      "metadata": {
        "colab": {
          "base_uri": "https://localhost:8080/"
        },
        "id": "SgyuCtfNMf1c",
        "outputId": "f3d584ba-4c6d-4b21-c589-c8c86515d291"
      },
      "source": [
        "#Update\n",
        "novos_dados ={\n",
        "    'populacao_milhoes': 15,\n",
        "    'fundacao': '25/01/1554'\n",
        "}\n",
        "\n",
        "dados_cidade.update(novos_dados)\n",
        "print(dados_cidade)"
      ],
      "execution_count": null,
      "outputs": [
        {
          "output_type": "stream",
          "text": [
            "{'nome': 'São Paulo', 'estado': 'São Paulo', 'area': 1521, 'populacao_milhoes': 15, 'pais': 'Brasil', 'fundacao': '25/01/1554'}\n"
          ],
          "name": "stdout"
        }
      ]
    },
    {
      "cell_type": "code",
      "metadata": {
        "colab": {
          "base_uri": "https://localhost:8080/",
          "height": 197
        },
        "id": "Mmy6RWfENp1N",
        "outputId": "157d26a0-973b-4979-a11f-4c92584b3905"
      },
      "source": [
        "#acessar dados inexistente com chave\n",
        "\n",
        "print(dados_cidade['prefeito'])"
      ],
      "execution_count": null,
      "outputs": [
        {
          "output_type": "error",
          "ename": "KeyError",
          "evalue": "ignored",
          "traceback": [
            "\u001b[0;31m---------------------------------------------------------------------------\u001b[0m",
            "\u001b[0;31mKeyError\u001b[0m                                  Traceback (most recent call last)",
            "\u001b[0;32m<ipython-input-42-ada8c189c5ff>\u001b[0m in \u001b[0;36m<module>\u001b[0;34m()\u001b[0m\n\u001b[1;32m      1\u001b[0m \u001b[0;31m#acessar dados inexistente com chave\u001b[0m\u001b[0;34m\u001b[0m\u001b[0;34m\u001b[0m\u001b[0;34m\u001b[0m\u001b[0m\n\u001b[1;32m      2\u001b[0m \u001b[0;34m\u001b[0m\u001b[0m\n\u001b[0;32m----> 3\u001b[0;31m \u001b[0mprint\u001b[0m\u001b[0;34m(\u001b[0m\u001b[0mdados_cidade\u001b[0m\u001b[0;34m[\u001b[0m\u001b[0;34m'prefeito'\u001b[0m\u001b[0;34m]\u001b[0m\u001b[0;34m)\u001b[0m\u001b[0;34m\u001b[0m\u001b[0;34m\u001b[0m\u001b[0m\n\u001b[0m",
            "\u001b[0;31mKeyError\u001b[0m: 'prefeito'"
          ]
        }
      ]
    },
    {
      "cell_type": "code",
      "metadata": {
        "colab": {
          "base_uri": "https://localhost:8080/"
        },
        "id": "IAeiqT6gNp7y",
        "outputId": "3fe40b4a-1a32-4e5a-99b4-ba0a45fdffaf"
      },
      "source": [
        "#acessar dados inexistente com get()\n",
        "\n",
        "print(dados_cidade.get('prefeito'))"
      ],
      "execution_count": null,
      "outputs": [
        {
          "output_type": "stream",
          "text": [
            "None\n"
          ],
          "name": "stdout"
        }
      ]
    },
    {
      "cell_type": "code",
      "metadata": {
        "colab": {
          "base_uri": "https://localhost:8080/"
        },
        "id": "eArmCyIxOoue",
        "outputId": "df745c20-3ca4-4b8a-fd8d-448dd2fc0f92"
      },
      "source": [
        "print(dados_cidade.keys())\n",
        "print(dados_cidade.values())\n",
        "print(dados_cidade.items())"
      ],
      "execution_count": null,
      "outputs": [
        {
          "output_type": "stream",
          "text": [
            "dict_keys(['nome', 'estado', 'area', 'populacao_milhoes', 'pais', 'fundacao'])\n",
            "dict_values(['São Paulo', 'São Paulo', 1521, 15, 'Brasil', '25/01/1554'])\n",
            "dict_items([('nome', 'São Paulo'), ('estado', 'São Paulo'), ('area', 1521), ('populacao_milhoes', 15), ('pais', 'Brasil'), ('fundacao', '25/01/1554')])\n"
          ],
          "name": "stdout"
        }
      ]
    },
    {
      "cell_type": "markdown",
      "metadata": {
        "id": "19eb9br4UMKC"
      },
      "source": [
        "# Funções\n",
        "São uma sequencia de passos nomeada"
      ]
    },
    {
      "cell_type": "code",
      "metadata": {
        "id": "aWTSeI_8UbLq"
      },
      "source": [
        "def function():\n",
        "  print('Olá, Mundo!')\n"
      ],
      "execution_count": null,
      "outputs": []
    },
    {
      "cell_type": "code",
      "metadata": {
        "colab": {
          "base_uri": "https://localhost:8080/"
        },
        "id": "szHq1EGBU0Ay",
        "outputId": "b3ba0fcc-58da-4ec4-bbcf-5adc4599dd88"
      },
      "source": [
        "function()"
      ],
      "execution_count": null,
      "outputs": [
        {
          "output_type": "stream",
          "text": [
            "Olá, Mundo!\n"
          ],
          "name": "stdout"
        }
      ]
    },
    {
      "cell_type": "code",
      "metadata": {
        "id": "4fzE5T6rU5pM"
      },
      "source": [
        "def calcula_media(valor1=0, valor2=0, valor3=0):# é possivel atribuir um valor padrao para as variaveis, os parametros que tiverem valores padrao deveram ser declarados depois de um valor sem valor\n",
        "  return (valor1 + valor2 + valor3) / 3"
      ],
      "execution_count": null,
      "outputs": []
    },
    {
      "cell_type": "code",
      "metadata": {
        "colab": {
          "base_uri": "https://localhost:8080/"
        },
        "id": "7MFd0H_nVN_0",
        "outputId": "2d822ac8-19d1-4cbb-f41d-23eee36f7107"
      },
      "source": [
        "print(f'A media é {calcula_media(5, 8, 7):.2f}')"
      ],
      "execution_count": null,
      "outputs": [
        {
          "output_type": "stream",
          "text": [
            "A media é 6.67\n"
          ],
          "name": "stdout"
        }
      ]
    },
    {
      "cell_type": "code",
      "metadata": {
        "colab": {
          "base_uri": "https://localhost:8080/"
        },
        "id": "KaEBiq4DV0jC",
        "outputId": "c12b9d91-cc49-4d88-e14b-de4fd8da04ac"
      },
      "source": [
        "print(f'A media é {calcula_media():.2f}')"
      ],
      "execution_count": null,
      "outputs": [
        {
          "output_type": "stream",
          "text": [
            "A media é 0.00\n"
          ],
          "name": "stdout"
        }
      ]
    },
    {
      "cell_type": "code",
      "metadata": {
        "id": "eehiIEzrW875"
      },
      "source": [
        "def calcula_media(*args):\n",
        "  print(args, type(args))"
      ],
      "execution_count": null,
      "outputs": []
    },
    {
      "cell_type": "code",
      "metadata": {
        "colab": {
          "base_uri": "https://localhost:8080/"
        },
        "id": "RM-UmbiQXWJD",
        "outputId": "6e8560de-0646-4a03-ee07-e9f2c5bb82dd"
      },
      "source": [
        "calcula_media(10, 5, 9)"
      ],
      "execution_count": null,
      "outputs": [
        {
          "output_type": "stream",
          "text": [
            "(10, 5) <class 'tuple'>\n"
          ],
          "name": "stdout"
        }
      ]
    },
    {
      "cell_type": "code",
      "metadata": {
        "id": "BlRaP1r3XbWH"
      },
      "source": [
        "def calcula_media(*args, margem):\n",
        " return (sum(args) / len(args)) + margem"
      ],
      "execution_count": null,
      "outputs": []
    },
    {
      "cell_type": "code",
      "metadata": {
        "colab": {
          "base_uri": "https://localhost:8080/"
        },
        "id": "XhyL7AacXwP5",
        "outputId": "234883a8-88a8-4476-d514-2c6ca82098ce"
      },
      "source": [
        "print(f'A media é {calcula_media(10, 5, 9, margem=1):.2f}') #quando se utiliza args, o argumentos adicionais passados devem estar explicitos na chamada da função"
      ],
      "execution_count": null,
      "outputs": [
        {
          "output_type": "stream",
          "text": [
            "A media é 9.00\n"
          ],
          "name": "stdout"
        }
      ]
    },
    {
      "cell_type": "markdown",
      "metadata": {
        "id": "XFrd7sCMYvYw"
      },
      "source": [
        "## keywords arguments(kwargs)"
      ]
    },
    {
      "cell_type": "code",
      "metadata": {
        "id": "tJEjTYUyYs1i"
      },
      "source": [
        "def print_info(**kwargs):\n",
        "  print(kwargs, type(kwargs))"
      ],
      "execution_count": null,
      "outputs": []
    },
    {
      "cell_type": "code",
      "metadata": {
        "colab": {
          "base_uri": "https://localhost:8080/"
        },
        "id": "2t8_NZ8bZLVX",
        "outputId": "5fe757b8-5efa-4757-bda9-8f0e333e70a7"
      },
      "source": [
        "print_info(nome='J', sobrenome='D') # ao usar kwargs os argumentos dever ser nomeados"
      ],
      "execution_count": null,
      "outputs": [
        {
          "output_type": "stream",
          "text": [
            "{'nome': 'J', 'sobrenome': 'D'} <class 'dict'>\n"
          ],
          "name": "stdout"
        }
      ]
    },
    {
      "cell_type": "markdown",
      "metadata": {
        "id": "2ni62iYeZ1gV"
      },
      "source": [
        "# Manipulação de Arquivos\n",
        "\n",
        "* read\tr\tlê um arquivo existente\n",
        "* write\tw\tcria um novo arquivo\n",
        "* append\ta\tabre um arquivo existente para adicionar informações ao seu final\n",
        "* update\t+\tao ser combinado com outros modos, permite alteração de arquivo já  existente (ex: r+ abre um arquivo existente e permite modificá-lo)"
      ]
    },
    {
      "cell_type": "markdown",
      "metadata": {
        "id": "mZAyt_TTZ6HD"
      },
      "source": [
        "## Ler Arquivo"
      ]
    },
    {
      "cell_type": "code",
      "metadata": {
        "colab": {
          "base_uri": "https://localhost:8080/"
        },
        "id": "gQVtUe4tZ6P9",
        "outputId": "986b4667-beb4-408b-8b3a-7ff745bf8227"
      },
      "source": [
        "arquivo = open('dom_casmurro_cap_1..txt', 'r', encoding='utf-8')\n",
        "texto = arquivo.read()\n",
        "print(texto)\n",
        "arquivo.close() # sempre fechar conexão com um arquivo"
      ],
      "execution_count": 85,
      "outputs": [
        {
          "output_type": "stream",
          "text": [
            "Dom Casmurro \n",
            "\n",
            "Texto de referenda: \n",
            "Obras Completas de Machado de Assis, vol. I, \n",
            "Nova Aguilar, Rio de Janeiro, 1994. \n",
            "Publicado originalmente pela Editora Gamier, Rio de Janeiro, 1899. \n",
            "\n",
            "\n",
            "CAPITULO PRIMEIRO \n",
            "DO TITULO \n",
            "\n",
            "Uma noite destas, vindo da cidade para o Engenho Novo, encontrei no trem da \n",
            "Central um rapaz aqui do bairro, que eu conhego de vista e de chapeu. \n",
            "Cumprimentou-me, sentou-se ao pe de mim, falou da Lua e dos ministros, e \n",
            "acabou recitando-me versos. A viagem era curta, e os versos pode ser que nao \n",
            "fossem inteiramente maus. Sucedeu, porem, que, como eu estava cansado, fechei \n",
            "os olhos tres ou quatro vezes; tanto bastou para que ele interrompesse a leitura e \n",
            "metesse os versos no bolso. \n",
            "\n",
            "— Continue, disse eu acordando. \n",
            "\n",
            "— Ja acabei, murmurou ele. \n",
            "\n",
            "— Sao muito bonitos. \n",
            "\n",
            "Vi-lhe fazer um gesto para tira-los outra vez do bolso, mas nao passou do gesto; \n",
            "estava amuado. No dia seguinte entrou a dizer de mim nomes feios, e acabou \n",
            "alcunhando-me Dom Casmurro. Os vizinhos, que nao gostam dos meus habitos \n",
            "reclusos e calados, deram curso a alcunha, que afinal pegou. Nem por isso me \n",
            "zanguei. Contei a anedota aos amigos da cidade, e eles, por graga, chamam-me \n",
            "assim, alguns em bilhetes: \"Dom Casmurro, domingo vou jantar com voce”.— \n",
            "\"Vou para Petropolis, Dom Casmurro; a casa e a mesma da Renania; ve se deixas \n",
            "essa caverna do Engenho Novo, e vai la passar uns quinze dias comigo\".— \"Meu \n",
            "caro Dom Casmurro, nao cuide que o dispenso do teatro amanha; venha e dormira \n",
            "aqui na cidade; dou-lhe camarote, dou-lhe cha, dou-lhe cama; so nao Ihe dou \n",
            "moga”. \n",
            "\n",
            "Nao consultes dicionarios. Casmurro nao esta aqui no sentido que eles Ihe dao, \n",
            "mas no que Ihe pos o vulgo de homem calado e metido consigo. Dom veio por \n",
            "ironia, para atribuir-me fumos de fidalgo. Tudo por estar cochilando! Tambem nao \n",
            "achei melhor titulo para a minha narracao; se nao tiver outro daqui ate ao fim do \n",
            "livro, vai este mesmo. O meu poeta do trem ficara sabendo que nao Ihe guardo \n",
            "rancor. E com pequeno esforco, sendo o titulo seu, podera cuidar que a obra e \n",
            "sua. Ha livros que apenas terao isso dos seus autores; alguns nem tanto. \n",
            "\n"
          ],
          "name": "stdout"
        }
      ]
    },
    {
      "cell_type": "code",
      "metadata": {
        "colab": {
          "base_uri": "https://localhost:8080/"
        },
        "id": "ACMQkU2kdKdA",
        "outputId": "c7108b2e-dea1-4d2a-8b04-158c83eef29e"
      },
      "source": [
        "arquivo = open('dom_casmurro_cap_1..txt', 'r', encoding='utf-8')\n",
        "linha = arquivo.readline()\n",
        "while linha != '':\n",
        "  print(linha, end='')# ao colocar end no metodo print, o valor padrao de quebra de linha é sobrescrito pelo no valor passado\n",
        "  linha = arquivo.readline()\n",
        "arquivo.close() "
      ],
      "execution_count": 88,
      "outputs": [
        {
          "output_type": "stream",
          "text": [
            "Dom Casmurro \n",
            "\n",
            "Texto de referenda: \n",
            "Obras Completas de Machado de Assis, vol. I, \n",
            "Nova Aguilar, Rio de Janeiro, 1994. \n",
            "Publicado originalmente pela Editora Gamier, Rio de Janeiro, 1899. \n",
            "\n",
            "\n",
            "CAPITULO PRIMEIRO \n",
            "DO TITULO \n",
            "\n",
            "Uma noite destas, vindo da cidade para o Engenho Novo, encontrei no trem da \n",
            "Central um rapaz aqui do bairro, que eu conhego de vista e de chapeu. \n",
            "Cumprimentou-me, sentou-se ao pe de mim, falou da Lua e dos ministros, e \n",
            "acabou recitando-me versos. A viagem era curta, e os versos pode ser que nao \n",
            "fossem inteiramente maus. Sucedeu, porem, que, como eu estava cansado, fechei \n",
            "os olhos tres ou quatro vezes; tanto bastou para que ele interrompesse a leitura e \n",
            "metesse os versos no bolso. \n",
            "\n",
            "— Continue, disse eu acordando. \n",
            "\n",
            "— Ja acabei, murmurou ele. \n",
            "\n",
            "— Sao muito bonitos. \n",
            "\n",
            "Vi-lhe fazer um gesto para tira-los outra vez do bolso, mas nao passou do gesto; \n",
            "estava amuado. No dia seguinte entrou a dizer de mim nomes feios, e acabou \n",
            "alcunhando-me Dom Casmurro. Os vizinhos, que nao gostam dos meus habitos \n",
            "reclusos e calados, deram curso a alcunha, que afinal pegou. Nem por isso me \n",
            "zanguei. Contei a anedota aos amigos da cidade, e eles, por graga, chamam-me \n",
            "assim, alguns em bilhetes: \"Dom Casmurro, domingo vou jantar com voce”.— \n",
            "\"Vou para Petropolis, Dom Casmurro; a casa e a mesma da Renania; ve se deixas \n",
            "essa caverna do Engenho Novo, e vai la passar uns quinze dias comigo\".— \"Meu \n",
            "caro Dom Casmurro, nao cuide que o dispenso do teatro amanha; venha e dormira \n",
            "aqui na cidade; dou-lhe camarote, dou-lhe cha, dou-lhe cama; so nao Ihe dou \n",
            "moga”. \n",
            "\n",
            "Nao consultes dicionarios. Casmurro nao esta aqui no sentido que eles Ihe dao, \n",
            "mas no que Ihe pos o vulgo de homem calado e metido consigo. Dom veio por \n",
            "ironia, para atribuir-me fumos de fidalgo. Tudo por estar cochilando! Tambem nao \n",
            "achei melhor titulo para a minha narracao; se nao tiver outro daqui ate ao fim do \n",
            "livro, vai este mesmo. O meu poeta do trem ficara sabendo que nao Ihe guardo \n",
            "rancor. E com pequeno esforco, sendo o titulo seu, podera cuidar que a obra e \n",
            "sua. Ha livros que apenas terao isso dos seus autores; alguns nem tanto. \n"
          ],
          "name": "stdout"
        }
      ]
    },
    {
      "cell_type": "code",
      "metadata": {
        "colab": {
          "base_uri": "https://localhost:8080/"
        },
        "id": "SNjrxswxeKRS",
        "outputId": "01a0dbb3-6a40-493b-ed52-5d883f86fc75"
      },
      "source": [
        "arquivo = open('dom_casmurro_cap_1..txt', 'r', encoding='utf-8')\n",
        "for linha in arquivo:\n",
        "  print(linha, end='')\n",
        "arquivo.close()"
      ],
      "execution_count": 89,
      "outputs": [
        {
          "output_type": "stream",
          "text": [
            "Dom Casmurro \n",
            "\n",
            "Texto de referenda: \n",
            "Obras Completas de Machado de Assis, vol. I, \n",
            "Nova Aguilar, Rio de Janeiro, 1994. \n",
            "Publicado originalmente pela Editora Gamier, Rio de Janeiro, 1899. \n",
            "\n",
            "\n",
            "CAPITULO PRIMEIRO \n",
            "DO TITULO \n",
            "\n",
            "Uma noite destas, vindo da cidade para o Engenho Novo, encontrei no trem da \n",
            "Central um rapaz aqui do bairro, que eu conhego de vista e de chapeu. \n",
            "Cumprimentou-me, sentou-se ao pe de mim, falou da Lua e dos ministros, e \n",
            "acabou recitando-me versos. A viagem era curta, e os versos pode ser que nao \n",
            "fossem inteiramente maus. Sucedeu, porem, que, como eu estava cansado, fechei \n",
            "os olhos tres ou quatro vezes; tanto bastou para que ele interrompesse a leitura e \n",
            "metesse os versos no bolso. \n",
            "\n",
            "— Continue, disse eu acordando. \n",
            "\n",
            "— Ja acabei, murmurou ele. \n",
            "\n",
            "— Sao muito bonitos. \n",
            "\n",
            "Vi-lhe fazer um gesto para tira-los outra vez do bolso, mas nao passou do gesto; \n",
            "estava amuado. No dia seguinte entrou a dizer de mim nomes feios, e acabou \n",
            "alcunhando-me Dom Casmurro. Os vizinhos, que nao gostam dos meus habitos \n",
            "reclusos e calados, deram curso a alcunha, que afinal pegou. Nem por isso me \n",
            "zanguei. Contei a anedota aos amigos da cidade, e eles, por graga, chamam-me \n",
            "assim, alguns em bilhetes: \"Dom Casmurro, domingo vou jantar com voce”.— \n",
            "\"Vou para Petropolis, Dom Casmurro; a casa e a mesma da Renania; ve se deixas \n",
            "essa caverna do Engenho Novo, e vai la passar uns quinze dias comigo\".— \"Meu \n",
            "caro Dom Casmurro, nao cuide que o dispenso do teatro amanha; venha e dormira \n",
            "aqui na cidade; dou-lhe camarote, dou-lhe cha, dou-lhe cama; so nao Ihe dou \n",
            "moga”. \n",
            "\n",
            "Nao consultes dicionarios. Casmurro nao esta aqui no sentido que eles Ihe dao, \n",
            "mas no que Ihe pos o vulgo de homem calado e metido consigo. Dom veio por \n",
            "ironia, para atribuir-me fumos de fidalgo. Tudo por estar cochilando! Tambem nao \n",
            "achei melhor titulo para a minha narracao; se nao tiver outro daqui ate ao fim do \n",
            "livro, vai este mesmo. O meu poeta do trem ficara sabendo que nao Ihe guardo \n",
            "rancor. E com pequeno esforco, sendo o titulo seu, podera cuidar que a obra e \n",
            "sua. Ha livros que apenas terao isso dos seus autores; alguns nem tanto. \n"
          ],
          "name": "stdout"
        }
      ]
    },
    {
      "cell_type": "code",
      "metadata": {
        "colab": {
          "base_uri": "https://localhost:8080/"
        },
        "id": "39wyUucxec9I",
        "outputId": "77b85753-3872-44a7-ed8d-3566af4e1243"
      },
      "source": [
        "with open('dom_casmurro_cap_1..txt', 'r', encoding='utf-8') as arquivo: # gera um  bloco de codigo que fecha automaticamente depois que é executado\n",
        "    texto = arquivo.read()\n",
        "    \n",
        "print(texto)"
      ],
      "execution_count": 92,
      "outputs": [
        {
          "output_type": "stream",
          "text": [
            "Dom Casmurro \n",
            "\n",
            "Texto de referenda: \n",
            "Obras Completas de Machado de Assis, vol. I, \n",
            "Nova Aguilar, Rio de Janeiro, 1994. \n",
            "Publicado originalmente pela Editora Gamier, Rio de Janeiro, 1899. \n",
            "\n",
            "\n",
            "CAPITULO PRIMEIRO \n",
            "DO TITULO \n",
            "\n",
            "Uma noite destas, vindo da cidade para o Engenho Novo, encontrei no trem da \n",
            "Central um rapaz aqui do bairro, que eu conhego de vista e de chapeu. \n",
            "Cumprimentou-me, sentou-se ao pe de mim, falou da Lua e dos ministros, e \n",
            "acabou recitando-me versos. A viagem era curta, e os versos pode ser que nao \n",
            "fossem inteiramente maus. Sucedeu, porem, que, como eu estava cansado, fechei \n",
            "os olhos tres ou quatro vezes; tanto bastou para que ele interrompesse a leitura e \n",
            "metesse os versos no bolso. \n",
            "\n",
            "— Continue, disse eu acordando. \n",
            "\n",
            "— Ja acabei, murmurou ele. \n",
            "\n",
            "— Sao muito bonitos. \n",
            "\n",
            "Vi-lhe fazer um gesto para tira-los outra vez do bolso, mas nao passou do gesto; \n",
            "estava amuado. No dia seguinte entrou a dizer de mim nomes feios, e acabou \n",
            "alcunhando-me Dom Casmurro. Os vizinhos, que nao gostam dos meus habitos \n",
            "reclusos e calados, deram curso a alcunha, que afinal pegou. Nem por isso me \n",
            "zanguei. Contei a anedota aos amigos da cidade, e eles, por graga, chamam-me \n",
            "assim, alguns em bilhetes: \"Dom Casmurro, domingo vou jantar com voce”.— \n",
            "\"Vou para Petropolis, Dom Casmurro; a casa e a mesma da Renania; ve se deixas \n",
            "essa caverna do Engenho Novo, e vai la passar uns quinze dias comigo\".— \"Meu \n",
            "caro Dom Casmurro, nao cuide que o dispenso do teatro amanha; venha e dormira \n",
            "aqui na cidade; dou-lhe camarote, dou-lhe cha, dou-lhe cama; so nao Ihe dou \n",
            "moga”. \n",
            "\n",
            "Nao consultes dicionarios. Casmurro nao esta aqui no sentido que eles Ihe dao, \n",
            "mas no que Ihe pos o vulgo de homem calado e metido consigo. Dom veio por \n",
            "ironia, para atribuir-me fumos de fidalgo. Tudo por estar cochilando! Tambem nao \n",
            "achei melhor titulo para a minha narracao; se nao tiver outro daqui ate ao fim do \n",
            "livro, vai este mesmo. O meu poeta do trem ficara sabendo que nao Ihe guardo \n",
            "rancor. E com pequeno esforco, sendo o titulo seu, podera cuidar que a obra e \n",
            "sua. Ha livros que apenas terao isso dos seus autores; alguns nem tanto. \n",
            "\n"
          ],
          "name": "stdout"
        }
      ]
    },
    {
      "cell_type": "markdown",
      "metadata": {
        "id": "2W42sQ1cfZnL"
      },
      "source": [
        "## Escrever em um arquivo"
      ]
    },
    {
      "cell_type": "code",
      "metadata": {
        "id": "bdPhexRnfQBS"
      },
      "source": [
        "with open('arquivo_teste.txt', 'w', encoding='utf-8') as arquivo:\n",
        "    arquivo.write(\"Essa é uma linha escrita em python\\n\")\n",
        "    arquivo.write(\"Essa é outra linha escrita em python\\n\")"
      ],
      "execution_count": 93,
      "outputs": []
    },
    {
      "cell_type": "code",
      "metadata": {
        "colab": {
          "base_uri": "https://localhost:8080/"
        },
        "id": "YHrSWGVOgRkr",
        "outputId": "0079acff-42b0-4baa-a1d4-2cd958fd0662"
      },
      "source": [
        "with open('arquivo_teste.txt', 'r', encoding='utf-8') as arquivo:\n",
        "    print(arquivo.read(), end='')"
      ],
      "execution_count": 95,
      "outputs": [
        {
          "output_type": "stream",
          "text": [
            "Essa é uma linha escrita em python\n",
            "Essa é outra linha escrita em python\n"
          ],
          "name": "stdout"
        }
      ]
    },
    {
      "cell_type": "code",
      "metadata": {
        "id": "c0bnrjytg0OP"
      },
      "source": [
        "with open('arquivo_teste.txt', 'a', encoding='utf-8') as arquivo:\n",
        "    arquivo.write(\"Essa é um terceira linha escrita em python\\n\")"
      ],
      "execution_count": 96,
      "outputs": []
    },
    {
      "cell_type": "code",
      "metadata": {
        "colab": {
          "base_uri": "https://localhost:8080/"
        },
        "id": "oe3JE2yig9Id",
        "outputId": "0ce7749a-ab48-4ac5-c501-9088a166173a"
      },
      "source": [
        "with open('arquivo_teste.txt', 'r', encoding='utf-8') as arquivo:\n",
        "    print(arquivo.read(), end='')"
      ],
      "execution_count": 97,
      "outputs": [
        {
          "output_type": "stream",
          "text": [
            "Essa é uma linha escrita em python\n",
            "Essa é outra linha escrita em python\n",
            "Essa é um terceira linha escrita em python\n"
          ],
          "name": "stdout"
        }
      ]
    },
    {
      "cell_type": "markdown",
      "metadata": {
        "id": "KNSQsaeQhTJS"
      },
      "source": [
        "## CSV\n",
        "Comma Separated Values\n"
      ]
    },
    {
      "cell_type": "markdown",
      "metadata": {
        "id": "d9AFknEdk0AP"
      },
      "source": [
        "## leitura CSV"
      ]
    },
    {
      "cell_type": "code",
      "metadata": {
        "id": "b-xOAwHchVkd"
      },
      "source": [
        "import csv"
      ],
      "execution_count": 98,
      "outputs": []
    },
    {
      "cell_type": "code",
      "metadata": {
        "colab": {
          "base_uri": "https://localhost:8080/"
        },
        "id": "bL6luyMjiZaY",
        "outputId": "ddd2d639-7ecf-4625-e597-cde1b4adc515"
      },
      "source": [
        "#Usando a biblioteca csv\n",
        "with open('brasil_covid.csv', 'r', encoding='utf-8')as arquivo_csv:\n",
        "   leitor = csv.reader(arquivo_csv)\n",
        "   header = next(leitor) # a função next() pula um das iterações, nesse caso o cabeçalho\n",
        "   for linha in leitor:\n",
        "     if float(linha[2]) > 1:\n",
        "        print(linha)\n",
        "\n"
      ],
      "execution_count": 100,
      "outputs": [
        {
          "output_type": "stream",
          "text": [
            "['2020-03-06', 'Brasil', '5', '0', '8', '0']\n",
            "['2020-03-07', 'Brasil', '5', '0', '13', '0']\n",
            "['2020-03-09', 'Brasil', '12', '0', '25', '0']\n",
            "['2020-03-11', 'Brasil', '9', '0', '34', '0']\n",
            "['2020-03-12', 'Brasil', '18', '0', '52', '0']\n",
            "['2020-03-13', 'Brasil', '25', '0', '77', '0']\n",
            "['2020-03-14', 'Brasil', '21', '0', '98', '0']\n",
            "['2020-03-15', 'Brasil', '23', '0', '121', '0']\n",
            "['2020-03-16', 'Brasil', '79', '0', '200', '0']\n",
            "['2020-03-17', 'Brasil', '34', '0', '234', '0']\n",
            "['2020-03-18', 'Brasil', '57', '1', '291', '1']\n",
            "['2020-03-19', 'Brasil', '137', '3', '428', '4']\n",
            "['2020-03-20', 'Brasil', '193', '2', '621', '6']\n",
            "['2020-03-21', 'Brasil', '283', '5', '904', '11']\n",
            "['2020-03-22', 'Brasil', '224', '7', '1128', '18']\n",
            "['2020-03-23', 'Brasil', '418', '7', '1546', '25']\n",
            "['2020-03-24', 'Brasil', '345', '9', '1891', '34']\n",
            "['2020-03-25', 'Brasil', '310', '12', '2201', '46']\n",
            "['2020-03-26', 'Brasil', '232', '11', '2433', '57']\n",
            "['2020-03-27', 'Brasil', '482', '20', '2915', '77']\n",
            "['2020-03-28', 'Brasil', '502', '15', '3417', '92']\n",
            "['2020-03-29', 'Brasil', '487', '22', '3904', '114']\n",
            "['2020-03-30', 'Brasil', '352', '22', '4256', '136']\n",
            "['2020-03-31', 'Brasil', '323', '23', '4579', '159']\n",
            "['2020-04-01', 'Brasil', '1138', '42', '5717', '201']\n",
            "['2020-04-02', 'Brasil', '1119', '40', '6836', '241']\n",
            "['2020-04-03', 'Brasil', '1074', '58', '7910', '299']\n",
            "['2020-04-04', 'Brasil', '1146', '60', '9056', '359']\n",
            "['2020-04-05', 'Brasil', '1222', '73', '10278', '432']\n",
            "['2020-04-06', 'Brasil', '852', '54', '11130', '486']\n",
            "['2020-04-07', 'Brasil', '926', '67', '12056', '553']\n",
            "['2020-04-08', 'Brasil', '1661', '114', '13717', '667']\n",
            "['2020-04-09', 'Brasil', '2210', '133', '15927', '800']\n",
            "['2020-04-10', 'Brasil', '1930', '141', '17857', '941']\n",
            "['2020-04-11', 'Brasil', '1781', '115', '19638', '1056']\n",
            "['2020-04-12', 'Brasil', '1089', '68', '20727', '1124']\n",
            "['2020-04-13', 'Brasil', '1442', '99', '22169', '1223']\n",
            "['2020-04-14', 'Brasil', '1261', '105', '23430', '1328']\n",
            "['2020-04-15', 'Brasil', '1832', '204', '25262', '1532']\n",
            "['2020-04-16', 'Brasil', '3058', '204', '28320', '1736']\n",
            "['2020-04-17', 'Brasil', '2105', '188', '30425', '1924']\n",
            "['2020-04-18', 'Brasil', '3257', '217', '33682', '2141']\n",
            "['2020-04-19', 'Brasil', '2917', '206', '36599', '2347']\n",
            "['2020-04-20', 'Brasil', '2055', '115', '38654', '2462']\n",
            "['2020-04-21', 'Brasil', '1927', '113', '40581', '2575']\n",
            "['2020-04-22', 'Brasil', '2498', '166', '43079', '2741']\n",
            "['2020-04-23', 'Brasil', '2678', '165', '45757', '2906']\n",
            "['2020-04-24', 'Brasil', '3735', '407', '49492', '3313']\n",
            "['2020-04-25', 'Brasil', '3503', '357', '52995', '3670']\n",
            "['2020-04-26', 'Brasil', '5514', '346', '58509', '4016']\n",
            "['2020-04-27', 'Brasil', '3379', '189', '61888', '4205']\n",
            "['2020-04-28', 'Brasil', '4613', '338', '66501', '4543']\n",
            "['2020-04-29', 'Brasil', '5385', '474', '71886', '5017']\n",
            "['2020-04-30', 'Brasil', '6276', '449', '78162', '5466']\n",
            "['2020-05-01', 'Brasil', '7218', '435', '85380', '5901']\n",
            "['2020-05-02', 'Brasil', '6209', '428', '91589', '6329']\n",
            "['2020-05-03', 'Brasil', '4970', '421', '96559', '6750']\n",
            "['2020-05-04', 'Brasil', '4588', '275', '101147', '7025']\n",
            "['2020-05-05', 'Brasil', '6633', '296', '107780', '7321']\n",
            "['2020-05-06', 'Brasil', '6935', '600', '114715', '7921']\n",
            "['2020-05-07', 'Brasil', '10503', '615', '125218', '8536']\n",
            "['2020-05-08', 'Brasil', '9888', '610', '135106', '9146']\n",
            "['2020-05-09', 'Brasil', '10222', '751', '145328', '9897']\n",
            "['2020-05-10', 'Brasil', '10611', '730', '155939', '10627']\n",
            "['2020-05-11', 'Brasil', '6760', '496', '162699', '11123']\n",
            "['2020-05-12', 'Brasil', '5632', '396', '168331', '11519']\n",
            "['2020-05-13', 'Brasil', '9258', '881', '177589', '12400']\n",
            "['2020-05-14', 'Brasil', '11385', '749', '188974', '13149']\n",
            "['2020-05-15', 'Brasil', '13944', '844', '202918', '13993']\n",
            "['2020-05-16', 'Brasil', '15305', '824', '218223', '14817']\n",
            "['2020-05-17', 'Brasil', '14919', '816', '233142', '15633']\n",
            "['2020-05-18', 'Brasil', '7938', '485', '241080', '16118']\n",
            "['2020-05-19', 'Brasil', '13140', '674', '254220', '16792']\n",
            "['2020-05-20', 'Brasil', '17408', '1179', '271628', '17971']\n",
            "['2020-05-21', 'Brasil', '19951', '888', '291579', '18859']\n",
            "['2020-05-22', 'Brasil', '18508', '1188', '310087', '20047']\n",
            "['2020-05-23', 'Brasil', '20803', '1001', '330890', '21048']\n",
            "['2020-05-24', 'Brasil', '16508', '965', '347398', '22013']\n",
            "['2020-05-25', 'Brasil', '15813', '653', '363211', '22666']\n",
            "['2020-05-26', 'Brasil', '11687', '807', '374898', '23473']\n",
            "['2020-05-27', 'Brasil', '16324', '1039', '391222', '24512']\n",
            "['2020-05-28', 'Brasil', '20599', '1086', '411821', '25598']\n",
            "['2020-05-29', 'Brasil', '26417', '1156', '438238', '26754']\n",
            "['2020-05-30', 'Brasil', '26928', '1124', '465166', '27878']\n",
            "['2020-05-31', 'Brasil', '33274', '956', '498440', '28834']\n",
            "['2020-06-01', 'Brasil', '16409', '480', '514849', '29314']\n",
            "['2020-06-02', 'Brasil', '11598', '623', '526447', '29937']\n",
            "['2020-06-03', 'Brasil', '28936', '1262', '555383', '31199']\n",
            "['2020-06-04', 'Brasil', '28633', '1349', '584016', '32548']\n",
            "['2020-06-05', 'Brasil', '30916', '1473', '614932', '34021']\n",
            "['2020-06-06', 'Brasil', '30830', '1005', '645762', '35026']\n",
            "['2020-06-07', 'Brasil', '27075', '904', '672837', '35930']\n",
            "['2020-06-08', 'Brasil', '18921', '525', '691758', '36455']\n",
            "['2020-06-09', 'Brasil', '15654', '679', '707412', '37134']\n",
            "['2020-06-10', 'Brasil', '32091', '1272', '739503', '38406']\n",
            "['2020-06-11', 'Brasil', '32913', '1274', '772416', '39680']\n",
            "['2020-06-12', 'Brasil', '30412', '1239', '802828', '40919']\n",
            "['2020-06-13', 'Brasil', '25982', '909', '828810', '41828']\n",
            "['2020-06-14', 'Brasil', '21704', '892', '850514', '42720']\n",
            "['2020-06-15', 'Brasil', '17110', '612', '867624', '43332']\n",
            "['2020-06-16', 'Brasil', '20647', '627', '888271', '43959']\n"
          ],
          "name": "stdout"
        }
      ]
    },
    {
      "cell_type": "code",
      "metadata": {
        "colab": {
          "base_uri": "https://localhost:8080/"
        },
        "id": "DEoWcq7Zkjac",
        "outputId": "95a512f9-0470-4041-bf8a-e93368c505df"
      },
      "source": [
        "# sem a biblioteca\n",
        "with open('brasil_covid.csv', 'r', encoding='utf-8')as csv_file:\n",
        "   linhas = csv_file.read()\n",
        "   linhas = linhas.split('\\n')\n",
        "   for linha in linhas:\n",
        "     linha = linha.split(',')\n",
        "     print(linha)"
      ],
      "execution_count": 103,
      "outputs": [
        {
          "output_type": "stream",
          "text": [
            "['data', 'pais', 'novos_casos', 'novos_obitos', 'total_casos', 'total_obitos']\n",
            "['2019-12-31', 'Brasil', '0', '0', '0', '0']\n",
            "['2020-01-01', 'Brasil', '0', '0', '0', '0']\n",
            "['2020-01-02', 'Brasil', '0', '0', '0', '0']\n",
            "['2020-01-03', 'Brasil', '0', '0', '0', '0']\n",
            "['2020-01-04', 'Brasil', '0', '0', '0', '0']\n",
            "['2020-01-05', 'Brasil', '0', '0', '0', '0']\n",
            "['2020-01-06', 'Brasil', '0', '0', '0', '0']\n",
            "['2020-01-07', 'Brasil', '0', '0', '0', '0']\n",
            "['2020-01-08', 'Brasil', '0', '0', '0', '0']\n",
            "['2020-01-09', 'Brasil', '0', '0', '0', '0']\n",
            "['2020-01-10', 'Brasil', '0', '0', '0', '0']\n",
            "['2020-01-11', 'Brasil', '0', '0', '0', '0']\n",
            "['2020-01-12', 'Brasil', '0', '0', '0', '0']\n",
            "['2020-01-13', 'Brasil', '0', '0', '0', '0']\n",
            "['2020-01-14', 'Brasil', '0', '0', '0', '0']\n",
            "['2020-01-15', 'Brasil', '0', '0', '0', '0']\n",
            "['2020-01-16', 'Brasil', '0', '0', '0', '0']\n",
            "['2020-01-17', 'Brasil', '0', '0', '0', '0']\n",
            "['2020-01-18', 'Brasil', '0', '0', '0', '0']\n",
            "['2020-01-19', 'Brasil', '0', '0', '0', '0']\n",
            "['2020-01-20', 'Brasil', '0', '0', '0', '0']\n",
            "['2020-01-21', 'Brasil', '0', '0', '0', '0']\n",
            "['2020-01-22', 'Brasil', '0', '0', '0', '0']\n",
            "['2020-01-23', 'Brasil', '0', '0', '0', '0']\n",
            "['2020-01-24', 'Brasil', '0', '0', '0', '0']\n",
            "['2020-01-25', 'Brasil', '0', '0', '0', '0']\n",
            "['2020-01-26', 'Brasil', '0', '0', '0', '0']\n",
            "['2020-01-27', 'Brasil', '0', '0', '0', '0']\n",
            "['2020-01-28', 'Brasil', '0', '0', '0', '0']\n",
            "['2020-01-29', 'Brasil', '0', '0', '0', '0']\n",
            "['2020-01-30', 'Brasil', '0', '0', '0', '0']\n",
            "['2020-01-31', 'Brasil', '0', '0', '0', '0']\n",
            "['2020-02-01', 'Brasil', '0', '0', '0', '0']\n",
            "['2020-02-02', 'Brasil', '0', '0', '0', '0']\n",
            "['2020-02-03', 'Brasil', '0', '0', '0', '0']\n",
            "['2020-02-04', 'Brasil', '0', '0', '0', '0']\n",
            "['2020-02-05', 'Brasil', '0', '0', '0', '0']\n",
            "['2020-02-06', 'Brasil', '0', '0', '0', '0']\n",
            "['2020-02-07', 'Brasil', '0', '0', '0', '0']\n",
            "['2020-02-08', 'Brasil', '0', '0', '0', '0']\n",
            "['2020-02-09', 'Brasil', '0', '0', '0', '0']\n",
            "['2020-02-10', 'Brasil', '0', '0', '0', '0']\n",
            "['2020-02-11', 'Brasil', '0', '0', '0', '0']\n",
            "['2020-02-12', 'Brasil', '0', '0', '0', '0']\n",
            "['2020-02-13', 'Brasil', '0', '0', '0', '0']\n",
            "['2020-02-14', 'Brasil', '0', '0', '0', '0']\n",
            "['2020-02-15', 'Brasil', '0', '0', '0', '0']\n",
            "['2020-02-16', 'Brasil', '0', '0', '0', '0']\n",
            "['2020-02-17', 'Brasil', '0', '0', '0', '0']\n",
            "['2020-02-18', 'Brasil', '0', '0', '0', '0']\n",
            "['2020-02-19', 'Brasil', '0', '0', '0', '0']\n",
            "['2020-02-20', 'Brasil', '0', '0', '0', '0']\n",
            "['2020-02-21', 'Brasil', '0', '0', '0', '0']\n",
            "['2020-02-22', 'Brasil', '0', '0', '0', '0']\n",
            "['2020-02-23', 'Brasil', '0', '0', '0', '0']\n",
            "['2020-02-24', 'Brasil', '0', '0', '0', '0']\n",
            "['2020-02-25', 'Brasil', '0', '0', '0', '0']\n",
            "['2020-02-26', 'Brasil', '1', '0', '1', '0']\n",
            "['2020-02-27', 'Brasil', '0', '0', '1', '0']\n",
            "['2020-02-28', 'Brasil', '0', '0', '1', '0']\n",
            "['2020-02-29', 'Brasil', '0', '0', '1', '0']\n",
            "['2020-03-01', 'Brasil', '1', '0', '2', '0']\n",
            "['2020-03-02', 'Brasil', '0', '0', '2', '0']\n",
            "['2020-03-03', 'Brasil', '0', '0', '2', '0']\n",
            "['2020-03-04', 'Brasil', '0', '0', '2', '0']\n",
            "['2020-03-05', 'Brasil', '1', '0', '3', '0']\n",
            "['2020-03-06', 'Brasil', '5', '0', '8', '0']\n",
            "['2020-03-07', 'Brasil', '5', '0', '13', '0']\n",
            "['2020-03-08', 'Brasil', '0', '0', '13', '0']\n",
            "['2020-03-09', 'Brasil', '12', '0', '25', '0']\n",
            "['2020-03-10', 'Brasil', '0', '0', '25', '0']\n",
            "['2020-03-11', 'Brasil', '9', '0', '34', '0']\n",
            "['2020-03-12', 'Brasil', '18', '0', '52', '0']\n",
            "['2020-03-13', 'Brasil', '25', '0', '77', '0']\n",
            "['2020-03-14', 'Brasil', '21', '0', '98', '0']\n",
            "['2020-03-15', 'Brasil', '23', '0', '121', '0']\n",
            "['2020-03-16', 'Brasil', '79', '0', '200', '0']\n",
            "['2020-03-17', 'Brasil', '34', '0', '234', '0']\n",
            "['2020-03-18', 'Brasil', '57', '1', '291', '1']\n",
            "['2020-03-19', 'Brasil', '137', '3', '428', '4']\n",
            "['2020-03-20', 'Brasil', '193', '2', '621', '6']\n",
            "['2020-03-21', 'Brasil', '283', '5', '904', '11']\n",
            "['2020-03-22', 'Brasil', '224', '7', '1128', '18']\n",
            "['2020-03-23', 'Brasil', '418', '7', '1546', '25']\n",
            "['2020-03-24', 'Brasil', '345', '9', '1891', '34']\n",
            "['2020-03-25', 'Brasil', '310', '12', '2201', '46']\n",
            "['2020-03-26', 'Brasil', '232', '11', '2433', '57']\n",
            "['2020-03-27', 'Brasil', '482', '20', '2915', '77']\n",
            "['2020-03-28', 'Brasil', '502', '15', '3417', '92']\n",
            "['2020-03-29', 'Brasil', '487', '22', '3904', '114']\n",
            "['2020-03-30', 'Brasil', '352', '22', '4256', '136']\n",
            "['2020-03-31', 'Brasil', '323', '23', '4579', '159']\n",
            "['2020-04-01', 'Brasil', '1138', '42', '5717', '201']\n",
            "['2020-04-02', 'Brasil', '1119', '40', '6836', '241']\n",
            "['2020-04-03', 'Brasil', '1074', '58', '7910', '299']\n",
            "['2020-04-04', 'Brasil', '1146', '60', '9056', '359']\n",
            "['2020-04-05', 'Brasil', '1222', '73', '10278', '432']\n",
            "['2020-04-06', 'Brasil', '852', '54', '11130', '486']\n",
            "['2020-04-07', 'Brasil', '926', '67', '12056', '553']\n",
            "['2020-04-08', 'Brasil', '1661', '114', '13717', '667']\n",
            "['2020-04-09', 'Brasil', '2210', '133', '15927', '800']\n",
            "['2020-04-10', 'Brasil', '1930', '141', '17857', '941']\n",
            "['2020-04-11', 'Brasil', '1781', '115', '19638', '1056']\n",
            "['2020-04-12', 'Brasil', '1089', '68', '20727', '1124']\n",
            "['2020-04-13', 'Brasil', '1442', '99', '22169', '1223']\n",
            "['2020-04-14', 'Brasil', '1261', '105', '23430', '1328']\n",
            "['2020-04-15', 'Brasil', '1832', '204', '25262', '1532']\n",
            "['2020-04-16', 'Brasil', '3058', '204', '28320', '1736']\n",
            "['2020-04-17', 'Brasil', '2105', '188', '30425', '1924']\n",
            "['2020-04-18', 'Brasil', '3257', '217', '33682', '2141']\n",
            "['2020-04-19', 'Brasil', '2917', '206', '36599', '2347']\n",
            "['2020-04-20', 'Brasil', '2055', '115', '38654', '2462']\n",
            "['2020-04-21', 'Brasil', '1927', '113', '40581', '2575']\n",
            "['2020-04-22', 'Brasil', '2498', '166', '43079', '2741']\n",
            "['2020-04-23', 'Brasil', '2678', '165', '45757', '2906']\n",
            "['2020-04-24', 'Brasil', '3735', '407', '49492', '3313']\n",
            "['2020-04-25', 'Brasil', '3503', '357', '52995', '3670']\n",
            "['2020-04-26', 'Brasil', '5514', '346', '58509', '4016']\n",
            "['2020-04-27', 'Brasil', '3379', '189', '61888', '4205']\n",
            "['2020-04-28', 'Brasil', '4613', '338', '66501', '4543']\n",
            "['2020-04-29', 'Brasil', '5385', '474', '71886', '5017']\n",
            "['2020-04-30', 'Brasil', '6276', '449', '78162', '5466']\n",
            "['2020-05-01', 'Brasil', '7218', '435', '85380', '5901']\n",
            "['2020-05-02', 'Brasil', '6209', '428', '91589', '6329']\n",
            "['2020-05-03', 'Brasil', '4970', '421', '96559', '6750']\n",
            "['2020-05-04', 'Brasil', '4588', '275', '101147', '7025']\n",
            "['2020-05-05', 'Brasil', '6633', '296', '107780', '7321']\n",
            "['2020-05-06', 'Brasil', '6935', '600', '114715', '7921']\n",
            "['2020-05-07', 'Brasil', '10503', '615', '125218', '8536']\n",
            "['2020-05-08', 'Brasil', '9888', '610', '135106', '9146']\n",
            "['2020-05-09', 'Brasil', '10222', '751', '145328', '9897']\n",
            "['2020-05-10', 'Brasil', '10611', '730', '155939', '10627']\n",
            "['2020-05-11', 'Brasil', '6760', '496', '162699', '11123']\n",
            "['2020-05-12', 'Brasil', '5632', '396', '168331', '11519']\n",
            "['2020-05-13', 'Brasil', '9258', '881', '177589', '12400']\n",
            "['2020-05-14', 'Brasil', '11385', '749', '188974', '13149']\n",
            "['2020-05-15', 'Brasil', '13944', '844', '202918', '13993']\n",
            "['2020-05-16', 'Brasil', '15305', '824', '218223', '14817']\n",
            "['2020-05-17', 'Brasil', '14919', '816', '233142', '15633']\n",
            "['2020-05-18', 'Brasil', '7938', '485', '241080', '16118']\n",
            "['2020-05-19', 'Brasil', '13140', '674', '254220', '16792']\n",
            "['2020-05-20', 'Brasil', '17408', '1179', '271628', '17971']\n",
            "['2020-05-21', 'Brasil', '19951', '888', '291579', '18859']\n",
            "['2020-05-22', 'Brasil', '18508', '1188', '310087', '20047']\n",
            "['2020-05-23', 'Brasil', '20803', '1001', '330890', '21048']\n",
            "['2020-05-24', 'Brasil', '16508', '965', '347398', '22013']\n",
            "['2020-05-25', 'Brasil', '15813', '653', '363211', '22666']\n",
            "['2020-05-26', 'Brasil', '11687', '807', '374898', '23473']\n",
            "['2020-05-27', 'Brasil', '16324', '1039', '391222', '24512']\n",
            "['2020-05-28', 'Brasil', '20599', '1086', '411821', '25598']\n",
            "['2020-05-29', 'Brasil', '26417', '1156', '438238', '26754']\n",
            "['2020-05-30', 'Brasil', '26928', '1124', '465166', '27878']\n",
            "['2020-05-31', 'Brasil', '33274', '956', '498440', '28834']\n",
            "['2020-06-01', 'Brasil', '16409', '480', '514849', '29314']\n",
            "['2020-06-02', 'Brasil', '11598', '623', '526447', '29937']\n",
            "['2020-06-03', 'Brasil', '28936', '1262', '555383', '31199']\n",
            "['2020-06-04', 'Brasil', '28633', '1349', '584016', '32548']\n",
            "['2020-06-05', 'Brasil', '30916', '1473', '614932', '34021']\n",
            "['2020-06-06', 'Brasil', '30830', '1005', '645762', '35026']\n",
            "['2020-06-07', 'Brasil', '27075', '904', '672837', '35930']\n",
            "['2020-06-08', 'Brasil', '18921', '525', '691758', '36455']\n",
            "['2020-06-09', 'Brasil', '15654', '679', '707412', '37134']\n",
            "['2020-06-10', 'Brasil', '32091', '1272', '739503', '38406']\n",
            "['2020-06-11', 'Brasil', '32913', '1274', '772416', '39680']\n",
            "['2020-06-12', 'Brasil', '30412', '1239', '802828', '40919']\n",
            "['2020-06-13', 'Brasil', '25982', '909', '828810', '41828']\n",
            "['2020-06-14', 'Brasil', '21704', '892', '850514', '42720']\n",
            "['2020-06-15', 'Brasil', '17110', '612', '867624', '43332']\n",
            "['2020-06-16', 'Brasil', '20647', '627', '888271', '43959']\n"
          ],
          "name": "stdout"
        }
      ]
    },
    {
      "cell_type": "markdown",
      "metadata": {
        "id": "JIpfqJOjlkXB"
      },
      "source": [
        "## Escrevendo no csv\n"
      ]
    },
    {
      "cell_type": "code",
      "metadata": {
        "id": "TKFV7lptloKH"
      },
      "source": [
        "with open('users.csv', 'w', encoding='utf-8', newline='') as users:\n",
        "    escritor = csv.writer(users)\n",
        "    escritor.writerow(['nome', 'sobrenome', 'email', 'genero'])\n",
        "    escritor.writerow(['J', 'D', 'jd@gmail.com', 'M'])\n"
      ],
      "execution_count": 105,
      "outputs": []
    },
    {
      "cell_type": "code",
      "metadata": {
        "colab": {
          "base_uri": "https://localhost:8080/"
        },
        "id": "7AGaE5zWm9HP",
        "outputId": "592fc714-2f97-4413-a42b-bffcea786723"
      },
      "source": [
        "with open('users.csv', 'r', encoding='utf-8')as users:\n",
        "   leitor = csv.reader(users)\n",
        "   \n",
        "   for linha in leitor:\n",
        "    print(linha)"
      ],
      "execution_count": 106,
      "outputs": [
        {
          "output_type": "stream",
          "text": [
            "['nome', 'sobrenome', 'email', 'genero']\n",
            "['J', 'D', 'jd@gmail.com', 'M']\n"
          ],
          "name": "stdout"
        }
      ]
    },
    {
      "cell_type": "markdown",
      "metadata": {
        "id": "Sr76bakFn0Ow"
      },
      "source": [
        "# API"
      ]
    },
    {
      "cell_type": "code",
      "metadata": {
        "colab": {
          "base_uri": "https://localhost:8080/"
        },
        "id": "E8Dhm_iRoN24",
        "outputId": "f271d844-984b-4f07-e86d-e19ad64d73de"
      },
      "source": [
        "!pip install requests"
      ],
      "execution_count": 109,
      "outputs": [
        {
          "output_type": "stream",
          "text": [
            "Requirement already satisfied: requests in /usr/local/lib/python3.7/dist-packages (2.23.0)\n",
            "Requirement already satisfied: urllib3!=1.25.0,!=1.25.1,<1.26,>=1.21.1 in /usr/local/lib/python3.7/dist-packages (from requests) (1.24.3)\n",
            "Requirement already satisfied: chardet<4,>=3.0.2 in /usr/local/lib/python3.7/dist-packages (from requests) (3.0.4)\n",
            "Requirement already satisfied: idna<3,>=2.5 in /usr/local/lib/python3.7/dist-packages (from requests) (2.10)\n",
            "Requirement already satisfied: certifi>=2017.4.17 in /usr/local/lib/python3.7/dist-packages (from requests) (2021.5.30)\n"
          ],
          "name": "stdout"
        }
      ]
    },
    {
      "cell_type": "code",
      "metadata": {
        "id": "0WP28fP1o4H5"
      },
      "source": [
        "import requests"
      ],
      "execution_count": 110,
      "outputs": []
    },
    {
      "cell_type": "code",
      "metadata": {
        "colab": {
          "base_uri": "https://localhost:8080/"
        },
        "id": "gxlY_TBqo8d1",
        "outputId": "b49b4553-cf99-4e3b-80d5-ce622e71cd4b"
      },
      "source": [
        "url = 'https://api.exchangerate-api.com/v6/latest'\n",
        "\n",
        "req = requests.get(url)\n",
        "\n",
        "print(req.status_code)"
      ],
      "execution_count": 114,
      "outputs": [
        {
          "output_type": "stream",
          "text": [
            "200\n"
          ],
          "name": "stdout"
        }
      ]
    },
    {
      "cell_type": "code",
      "metadata": {
        "colab": {
          "base_uri": "https://localhost:8080/"
        },
        "id": "byVMJ-Pmp5-o",
        "outputId": "c8011cfd-3170-4c25-9d86-3f57798813d0"
      },
      "source": [
        "dados = req.json()\n",
        "\n",
        "print(dados)"
      ],
      "execution_count": 115,
      "outputs": [
        {
          "output_type": "stream",
          "text": [
            "{'result': 'success', 'provider': 'https://www.exchangerate-api.com', 'documentation': 'https://www.exchangerate-api.com/docs/free', 'WARNING_NEW_ENDPOINT': 'Swap *api.exchangerate-api.com* with *open.er-api.com* for better servers!', 'terms_of_use': 'https://www.exchangerate-api.com/terms', 'time_last_update_unix': 1626393751, 'time_last_update_utc': 'Fri, 16 Jul 2021 00:02:31 +0000', 'time_next_update_unix': 1626480301, 'time_next_update_utc': 'Sat, 17 Jul 2021 00:05:01 +0000', 'time_eol_unix': 0, 'base_code': 'USD', 'rates': {'USD': 1, 'AED': 3.67, 'AFN': 80.17, 'ALL': 103.69, 'AMD': 495.52, 'ANG': 1.79, 'AOA': 647.8, 'ARS': 96.22, 'AUD': 1.34, 'AWG': 1.79, 'AZN': 1.7, 'BAM': 1.65, 'BBD': 2, 'BDT': 84.79, 'BGN': 1.65, 'BHD': 0.376, 'BIF': 1970.82, 'BMD': 1, 'BND': 1.35, 'BOB': 6.89, 'BRL': 5.08, 'BSD': 1, 'BTN': 74.54, 'BWP': 11.03, 'BYN': 2.55, 'BZD': 2, 'CAD': 1.25, 'CDF': 1978.53, 'CHF': 0.917, 'CLP': 746.8, 'CNY': 6.46, 'COP': 3792.21, 'CRC': 619.34, 'CUC': 1, 'CUP': 25.75, 'CVE': 93.11, 'CZK': 21.68, 'DJF': 177.72, 'DKK': 6.3, 'DOP': 56.92, 'DZD': 134.6, 'EGP': 15.68, 'ERN': 15, 'ETB': 43.84, 'EUR': 0.845, 'FJD': 2.07, 'FKP': 0.722, 'FOK': 6.3, 'GBP': 0.722, 'GEL': 3.13, 'GGP': 0.722, 'GHS': 5.93, 'GIP': 0.722, 'GMD': 51.8, 'GNF': 9773.06, 'GTQ': 7.73, 'GYD': 208.38, 'HKD': 7.77, 'HNL': 23.91, 'HRK': 6.36, 'HTG': 93.61, 'HUF': 304.56, 'IDR': 14556.02, 'ILS': 3.28, 'IMP': 0.722, 'INR': 74.54, 'IQD': 1453.15, 'IRR': 41844.52, 'ISK': 123.54, 'JMD': 153.73, 'JOD': 0.709, 'JPY': 109.93, 'KES': 108.14, 'KGS': 84.38, 'KHR': 4054.24, 'KID': 1.34, 'KMF': 415.44, 'KRW': 1143.75, 'KWD': 0.3, 'KYD': 0.833, 'KZT': 426.31, 'LAK': 9481.3, 'LBP': 1507.5, 'LKR': 198.9, 'LRD': 171.76, 'LSL': 14.56, 'LYD': 4.49, 'MAD': 8.95, 'MDL': 18.02, 'MGA': 3874.34, 'MKD': 52.1, 'MMK': 1645.75, 'MNT': 2838.26, 'MOP': 8, 'MRU': 35.99, 'MUR': 42.94, 'MVR': 15.41, 'MWK': 807.55, 'MXN': 19.94, 'MYR': 4.2, 'MZN': 63.73, 'NAD': 14.56, 'NGN': 424.48, 'NIO': 35.18, 'NOK': 8.79, 'NPR': 119.27, 'NZD': 1.43, 'OMR': 0.384, 'PAB': 1, 'PEN': 3.96, 'PGK': 3.52, 'PHP': 50.24, 'PKR': 159.23, 'PLN': 3.88, 'PYG': 6820.45, 'QAR': 3.64, 'RON': 4.17, 'RSD': 99.43, 'RUB': 74.14, 'RWF': 1004.74, 'SAR': 3.75, 'SBD': 7.9, 'SCR': 14.51, 'SDG': 440.9, 'SEK': 8.66, 'SGD': 1.35, 'SHP': 0.722, 'SLL': 10210.27, 'SOS': 576.25, 'SRD': 21.13, 'SSP': 177.51, 'STN': 20.69, 'SYP': 1457.21, 'SZL': 14.56, 'THB': 32.7, 'TJS': 11.33, 'TMT': 3.49, 'TND': 2.78, 'TOP': 2.24, 'TRY': 8.57, 'TTD': 6.78, 'TVD': 1.34, 'TWD': 27.96, 'TZS': 2314.46, 'UAH': 27.3, 'UGX': 3542.23, 'UYU': 43.85, 'UZS': 10717.45, 'VES': 3401263.72, 'VND': 22977.87, 'VUV': 110.25, 'WST': 2.55, 'XAF': 553.92, 'XCD': 2.7, 'XDR': 0.702, 'XOF': 553.92, 'XPF': 100.77, 'YER': 250.92, 'ZAR': 14.56, 'ZMW': 22.63}}\n"
          ],
          "name": "stdout"
        }
      ]
    },
    {
      "cell_type": "code",
      "metadata": {
        "colab": {
          "base_uri": "https://localhost:8080/"
        },
        "id": "TDUMi4N6qIKP",
        "outputId": "020e95cf-06d7-48f4-f744-b24ed316513a"
      },
      "source": [
        "valor_reais = float(input('Informe o Valor em R$\\n'))\n",
        "cotacao = dados['rates']['BRL']\n",
        "print(f'R${valor_reais:.2f} em dólar valem US$ {(valor_reais / cotacao):.2f}')"
      ],
      "execution_count": 116,
      "outputs": [
        {
          "output_type": "stream",
          "text": [
            "Informe o Valor em R$\n",
            "50.55\n",
            "R$50.55 em dólar valem US$ 9.95\n"
          ],
          "name": "stdout"
        }
      ]
    }
  ]
}